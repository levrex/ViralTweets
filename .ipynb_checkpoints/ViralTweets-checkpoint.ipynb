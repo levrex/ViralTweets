{
 "cells": [
  {
   "cell_type": "markdown",
   "metadata": {},
   "source": [
    "# Predict viral tweets"
   ]
  },
  {
   "cell_type": "code",
   "execution_count": 2,
   "metadata": {},
   "outputs": [
    {
     "name": "stdout",
     "output_type": "stream",
     "text": [
      "Current versions Modules:\n",
      "\n",
      "Pandas version:\t\t0.24.2\n",
      "Matplotlib version:\t3.1.0\n",
      "numpy version:\t\t1.16.4\n",
      "sklearn version:\t0.21.2\n"
     ]
    }
   ],
   "source": [
    "SEED = 26062019\n",
    "\n",
    "test_size = 0.5 \n",
    "\n",
    "import sys\n",
    "from sklearn.model_selection import train_test_split\n",
    "import numpy as np\n",
    "import pandas as pd\n",
    "from sklearn import __version__ as sk_vers\n",
    "import matplotlib.pyplot as plt\n",
    "from matplotlib import __version__ as m_vers\n",
    "\n",
    "#import pickle\n",
    "#from yellowbrick import __version__ as yb_vers\n",
    "#import NLP_functions as func\n",
    "#from pattern import __version__ as pat_vers\n",
    "#import random\n",
    "#from sklearn import datasets, svm, model_selection, tree, preprocessing, metrics\n",
    "#import sklearn.ensemble as ske\n",
    "#import re\n",
    "#import xgboost as xgb\n",
    "#import seaborn as sns\n",
    "\n",
    "\n",
    "print('Current versions Modules:\\n')\n",
    "print('Pandas version:\\t\\t' + pd.__version__)\n",
    "print('Matplotlib version:\\t' + m_vers)\n",
    "print('numpy version:\\t\\t' + np.__version__)\n",
    "print('sklearn version:\\t' + sk_vers)"
   ]
  },
  {
   "cell_type": "markdown",
   "metadata": {},
   "source": [
    "## 1. Load data"
   ]
  },
  {
   "cell_type": "code",
   "execution_count": 145,
   "metadata": {},
   "outputs": [
    {
     "name": "stdout",
     "output_type": "stream",
     "text": [
      "nr of tweets:  41122\n"
     ]
    },
    {
     "data": {
      "text/html": [
       "<div>\n",
       "<style scoped>\n",
       "    .dataframe tbody tr th:only-of-type {\n",
       "        vertical-align: middle;\n",
       "    }\n",
       "\n",
       "    .dataframe tbody tr th {\n",
       "        vertical-align: top;\n",
       "    }\n",
       "\n",
       "    .dataframe thead th {\n",
       "        text-align: right;\n",
       "    }\n",
       "</style>\n",
       "<table border=\"1\" class=\"dataframe\">\n",
       "  <thead>\n",
       "    <tr style=\"text-align: right;\">\n",
       "      <th></th>\n",
       "      <th>id</th>\n",
       "      <th>link</th>\n",
       "      <th>content</th>\n",
       "      <th>date</th>\n",
       "      <th>retweets</th>\n",
       "      <th>favorites</th>\n",
       "      <th>mentions</th>\n",
       "      <th>hashtags</th>\n",
       "      <th>geo</th>\n",
       "    </tr>\n",
       "  </thead>\n",
       "  <tbody>\n",
       "    <tr>\n",
       "      <th>0</th>\n",
       "      <td>1698308935</td>\n",
       "      <td>https://twitter.com/realDonaldTrump/status/169...</td>\n",
       "      <td>Be sure to tune in and watch Donald Trump on L...</td>\n",
       "      <td>2009-05-04 20:54:25</td>\n",
       "      <td>500</td>\n",
       "      <td>868</td>\n",
       "      <td>NaN</td>\n",
       "      <td>NaN</td>\n",
       "      <td>NaN</td>\n",
       "    </tr>\n",
       "    <tr>\n",
       "      <th>1</th>\n",
       "      <td>1701461182</td>\n",
       "      <td>https://twitter.com/realDonaldTrump/status/170...</td>\n",
       "      <td>Donald Trump will be appearing on The View tom...</td>\n",
       "      <td>2009-05-05 03:00:10</td>\n",
       "      <td>33</td>\n",
       "      <td>273</td>\n",
       "      <td>NaN</td>\n",
       "      <td>NaN</td>\n",
       "      <td>NaN</td>\n",
       "    </tr>\n",
       "    <tr>\n",
       "      <th>2</th>\n",
       "      <td>1737479987</td>\n",
       "      <td>https://twitter.com/realDonaldTrump/status/173...</td>\n",
       "      <td>Donald Trump reads Top Ten Financial Tips on L...</td>\n",
       "      <td>2009-05-08 15:38:08</td>\n",
       "      <td>12</td>\n",
       "      <td>18</td>\n",
       "      <td>NaN</td>\n",
       "      <td>NaN</td>\n",
       "      <td>NaN</td>\n",
       "    </tr>\n",
       "    <tr>\n",
       "      <th>3</th>\n",
       "      <td>1741160716</td>\n",
       "      <td>https://twitter.com/realDonaldTrump/status/174...</td>\n",
       "      <td>New Blog Post: Celebrity Apprentice Finale and...</td>\n",
       "      <td>2009-05-08 22:40:15</td>\n",
       "      <td>11</td>\n",
       "      <td>24</td>\n",
       "      <td>NaN</td>\n",
       "      <td>NaN</td>\n",
       "      <td>NaN</td>\n",
       "    </tr>\n",
       "    <tr>\n",
       "      <th>4</th>\n",
       "      <td>1773561338</td>\n",
       "      <td>https://twitter.com/realDonaldTrump/status/177...</td>\n",
       "      <td>\"My persona will never be that of a wallflower...</td>\n",
       "      <td>2009-05-12 16:07:28</td>\n",
       "      <td>1399</td>\n",
       "      <td>1965</td>\n",
       "      <td>NaN</td>\n",
       "      <td>NaN</td>\n",
       "      <td>NaN</td>\n",
       "    </tr>\n",
       "  </tbody>\n",
       "</table>\n",
       "</div>"
      ],
      "text/plain": [
       "           id                                               link  \\\n",
       "0  1698308935  https://twitter.com/realDonaldTrump/status/169...   \n",
       "1  1701461182  https://twitter.com/realDonaldTrump/status/170...   \n",
       "2  1737479987  https://twitter.com/realDonaldTrump/status/173...   \n",
       "3  1741160716  https://twitter.com/realDonaldTrump/status/174...   \n",
       "4  1773561338  https://twitter.com/realDonaldTrump/status/177...   \n",
       "\n",
       "                                             content                date  \\\n",
       "0  Be sure to tune in and watch Donald Trump on L... 2009-05-04 20:54:25   \n",
       "1  Donald Trump will be appearing on The View tom... 2009-05-05 03:00:10   \n",
       "2  Donald Trump reads Top Ten Financial Tips on L... 2009-05-08 15:38:08   \n",
       "3  New Blog Post: Celebrity Apprentice Finale and... 2009-05-08 22:40:15   \n",
       "4  \"My persona will never be that of a wallflower... 2009-05-12 16:07:28   \n",
       "\n",
       "   retweets  favorites mentions hashtags  geo  \n",
       "0       500        868      NaN      NaN  NaN  \n",
       "1        33        273      NaN      NaN  NaN  \n",
       "2        12         18      NaN      NaN  NaN  \n",
       "3        11         24      NaN      NaN  NaN  \n",
       "4      1399       1965      NaN      NaN  NaN  "
      ]
     },
     "execution_count": 145,
     "metadata": {},
     "output_type": "execute_result"
    }
   ],
   "source": [
    "df_tweets = pd.read_csv(r'input/trumptweets.csv', sep=',')\n",
    "df_tweets['date'] = pd.to_datetime(df_tweets['date']) # interpret date as pd.datetime\n",
    "print('nr of tweets: ', len(df_tweets))\n",
    "df_tweets.head()"
   ]
  },
  {
   "cell_type": "code",
   "execution_count": 146,
   "metadata": {},
   "outputs": [
    {
     "name": "stdout",
     "output_type": "stream",
     "text": [
      "First tweet:  2009-05-04 20:54:25\n",
      "Final tweet:  2020-01-20 02:57:49\n"
     ]
    }
   ],
   "source": [
    "print('First tweet: ', df_tweets['date'].min())\n",
    "print('Final tweet: ', df_tweets['date'].max())"
   ]
  },
  {
   "cell_type": "markdown",
   "metadata": {},
   "source": [
    "### Date cut-off\n",
    "Only select tweets after the moment he announced that he was a presidential candidate"
   ]
  },
  {
   "cell_type": "code",
   "execution_count": 147,
   "metadata": {},
   "outputs": [
    {
     "data": {
      "text/plain": [
       "'# FraudNewsCNN # FNNpic.twitter.com/WYUnHjjUjg'"
      ]
     },
     "execution_count": 147,
     "metadata": {},
     "output_type": "execute_result"
    }
   ],
   "source": [
    "df_tweets.loc[32059]['content']"
   ]
  },
  {
   "cell_type": "code",
   "execution_count": 148,
   "metadata": {},
   "outputs": [
    {
     "name": "stdout",
     "output_type": "stream",
     "text": [
      "17823\n"
     ]
    }
   ],
   "source": [
    "df_tweets = df_tweets[df_tweets['date']>pd.Timestamp('2015-06-16T12')] \n",
    "print(len(df_tweets))"
   ]
  },
  {
   "cell_type": "markdown",
   "metadata": {},
   "source": [
    "### Simple Cleaning"
   ]
  },
  {
   "cell_type": "code",
   "execution_count": 149,
   "metadata": {},
   "outputs": [],
   "source": [
    "import re\n",
    "\n",
    "def simpleCleaning(sentence):\n",
    "    # at this moment we ignore whether or not a term is tagged\n",
    "    sticky_chars = r'([!,.:\"#;@\\-\\+\\\\/&=\\]\\[<>^\\*`â€™\\(\\)\\d])'\n",
    "    sentence = re.sub(sticky_chars, r' ', sentence)\n",
    "    sentence = sentence.lower()\n",
    "    return sentence\n",
    "\n",
    "# convert to lowercase\n",
    "df_tweets['content'] = df_tweets['content'].str.lower()\n",
    "# remove links (pic is used for pictures)\n",
    "df_tweets['content'] = df_tweets['content'].str.replace('http\\S+|www.\\S+|pic.\\S+', '', case=False)\n",
    "# simple cleaning\n",
    "df_tweets['content'] = df_tweets['content'].apply(lambda x : simpleCleaning(x))\n",
    "# remove spaces\n",
    "df_tweets['content'] = df_tweets['content'].str.replace(' +', ' ', case=False)"
   ]
  },
  {
   "cell_type": "markdown",
   "metadata": {},
   "source": [
    "## Most popular tweet"
   ]
  },
  {
   "cell_type": "code",
   "execution_count": 150,
   "metadata": {},
   "outputs": [
    {
     "data": {
      "text/html": [
       "<div>\n",
       "<style scoped>\n",
       "    .dataframe tbody tr th:only-of-type {\n",
       "        vertical-align: middle;\n",
       "    }\n",
       "\n",
       "    .dataframe tbody tr th {\n",
       "        vertical-align: top;\n",
       "    }\n",
       "\n",
       "    .dataframe thead th {\n",
       "        text-align: right;\n",
       "    }\n",
       "</style>\n",
       "<table border=\"1\" class=\"dataframe\">\n",
       "  <thead>\n",
       "    <tr style=\"text-align: right;\">\n",
       "      <th></th>\n",
       "      <th>id</th>\n",
       "      <th>link</th>\n",
       "      <th>content</th>\n",
       "      <th>date</th>\n",
       "      <th>retweets</th>\n",
       "      <th>favorites</th>\n",
       "      <th>mentions</th>\n",
       "      <th>hashtags</th>\n",
       "      <th>geo</th>\n",
       "    </tr>\n",
       "  </thead>\n",
       "  <tbody>\n",
       "    <tr>\n",
       "      <th>38625</th>\n",
       "      <td>1157345692517634049</td>\n",
       "      <td>https://twitter.com/realDonaldTrump/status/115...</td>\n",
       "      <td>a$ap rocky released from prison and on his way...</td>\n",
       "      <td>2019-08-02 19:41:30</td>\n",
       "      <td>240363</td>\n",
       "      <td>857678</td>\n",
       "      <td>NaN</td>\n",
       "      <td>NaN</td>\n",
       "      <td>NaN</td>\n",
       "    </tr>\n",
       "  </tbody>\n",
       "</table>\n",
       "</div>"
      ],
      "text/plain": [
       "                        id                                               link  \\\n",
       "38625  1157345692517634049  https://twitter.com/realDonaldTrump/status/115...   \n",
       "\n",
       "                                                 content                date  \\\n",
       "38625  a$ap rocky released from prison and on his way... 2019-08-02 19:41:30   \n",
       "\n",
       "       retweets  favorites mentions hashtags  geo  \n",
       "38625    240363     857678      NaN      NaN  NaN  "
      ]
     },
     "execution_count": 150,
     "metadata": {},
     "output_type": "execute_result"
    }
   ],
   "source": [
    "df_tweets[df_tweets['favorites']==df_tweets['favorites'].max()]"
   ]
  },
  {
   "cell_type": "code",
   "execution_count": 151,
   "metadata": {},
   "outputs": [
    {
     "data": {
      "text/html": [
       "<div>\n",
       "<style scoped>\n",
       "    .dataframe tbody tr th:only-of-type {\n",
       "        vertical-align: middle;\n",
       "    }\n",
       "\n",
       "    .dataframe tbody tr th {\n",
       "        vertical-align: top;\n",
       "    }\n",
       "\n",
       "    .dataframe thead th {\n",
       "        text-align: right;\n",
       "    }\n",
       "</style>\n",
       "<table border=\"1\" class=\"dataframe\">\n",
       "  <thead>\n",
       "    <tr style=\"text-align: right;\">\n",
       "      <th></th>\n",
       "      <th>id</th>\n",
       "      <th>link</th>\n",
       "      <th>content</th>\n",
       "      <th>date</th>\n",
       "      <th>retweets</th>\n",
       "      <th>favorites</th>\n",
       "      <th>mentions</th>\n",
       "      <th>hashtags</th>\n",
       "      <th>geo</th>\n",
       "    </tr>\n",
       "  </thead>\n",
       "  <tbody>\n",
       "    <tr>\n",
       "      <th>32059</th>\n",
       "      <td>881503147168071680</td>\n",
       "      <td>https://twitter.com/realDonaldTrump/status/881...</td>\n",
       "      <td>fraudnewscnn fnn</td>\n",
       "      <td>2017-07-02 15:21:42</td>\n",
       "      <td>309892</td>\n",
       "      <td>528265</td>\n",
       "      <td>NaN</td>\n",
       "      <td># #</td>\n",
       "      <td>NaN</td>\n",
       "    </tr>\n",
       "  </tbody>\n",
       "</table>\n",
       "</div>"
      ],
      "text/plain": [
       "                       id                                               link  \\\n",
       "32059  881503147168071680  https://twitter.com/realDonaldTrump/status/881...   \n",
       "\n",
       "                 content                date  retweets  favorites mentions  \\\n",
       "32059   fraudnewscnn fnn 2017-07-02 15:21:42    309892     528265      NaN   \n",
       "\n",
       "      hashtags  geo  \n",
       "32059      # #  NaN  "
      ]
     },
     "execution_count": 151,
     "metadata": {},
     "output_type": "execute_result"
    }
   ],
   "source": [
    "df_tweets[df_tweets['retweets']==df_tweets['retweets'].max()]"
   ]
  },
  {
   "cell_type": "markdown",
   "metadata": {},
   "source": [
    "## 2. Create Train, Validation & Test set"
   ]
  },
  {
   "cell_type": "code",
   "execution_count": 152,
   "metadata": {},
   "outputs": [
    {
     "name": "stdout",
     "output_type": "stream",
     "text": [
      "Size train:\t 13367\n",
      "Size test:\t 4456\n"
     ]
    }
   ],
   "source": [
    "from sklearn.model_selection import train_test_split\n",
    "SEED = 232020\n",
    "\n",
    "X = df_tweets['content']\n",
    "y = df_tweets['favorites']\n",
    "\n",
    "# test split\n",
    "# validation splits\n",
    "#ss = ShuffleSplit(n_splits=10, test_size=0.5, random_state=SEED)\n",
    "#l_folds = ss.split(X_s)\n",
    "X_train, X_test, y_train, y_test = train_test_split(X, y, test_size=0.25, random_state=SEED)\n",
    "\n",
    "print('Size train:\\t', len(X_train))\n",
    "print('Size test:\\t', len(X_test))"
   ]
  },
  {
   "cell_type": "markdown",
   "metadata": {},
   "source": [
    "## 3. Visualize Exploration data\n",
    "### 3.1 Lexical plot of trainingsset"
   ]
  },
  {
   "cell_type": "code",
   "execution_count": 185,
   "metadata": {},
   "outputs": [],
   "source": [
    "from sklearn.feature_extraction.text import TfidfVectorizer\n",
    "from yellowbrick.text import DispersionPlot\n",
    "\n",
    "def plotLexicalDispersion(X, nr_features, title, **kwargs):\n",
    "    \"\"\"\n",
    "    Draws a lexical dispersion plot which visualizes \n",
    "    the homogeneity across the corpus. \n",
    "    \n",
    "    Also confirms wheter or not the data is randomized, \n",
    "    and visualizes the prevalence of features.\n",
    "    \n",
    "    Input:\n",
    "        X = array with text data (EHR entries)\n",
    "        nr_features = top n number of features to plot\n",
    "        n_grams = chunksize for text processing :\n",
    "            Note: chunksize refers to nr of words / not nr of \n",
    "                characters!\n",
    "        kwargs = arguments for feature vectorizer (TfidfVectorizer):\n",
    "            ngram_range = specifies the range of the ngram features\n",
    "    \"\"\"\n",
    "    count = 0\n",
    "    d = {}\n",
    "    words = []\n",
    "    for x in X:\n",
    "        if kwargs['ngram_range'][1] != 1:\n",
    "            # functie crasht bij hashtags\n",
    "            l = [i for i in x.split(' ')]\n",
    "            words.append([' '.join(l[i: i+(kwargs['ngram_range'][1])]) for i in range(len(l)+1) if len(l[i: i+(kwargs['ngram_range'][0])]) <= (kwargs['ngram_range'][1])])\n",
    "            \n",
    "            #print(words)\n",
    "            if len(words[-1]) == 0:\n",
    "                del words[-1]\n",
    "        else :\n",
    "            words.append([i for i in x.split(' ')])\n",
    "        count+=1\n",
    "    d = np.array(words)\n",
    "    count_vect = TfidfVectorizer(ngram_range=kwargs['ngram_range'])\n",
    "    \n",
    "    \n",
    "    X_train_tfidf = count_vect.fit_transform(X) \n",
    "    X_pd = pd.DataFrame(X_train_tfidf.toarray(), columns=count_vect.get_feature_names())\n",
    "    feature_to_plot =list(X_pd.sum().sort_values(ascending=False).keys()[:nr_features]) \n",
    "    visualizer = DispersionPlot(feature_to_plot, size=(450, 450))\n",
    "    ax = visualizer.ax\n",
    "    ax.tick_params(labelsize=18)\n",
    "    visualizer.fit(d)\n",
    "    visualizer.poof()\n",
    "    return"
   ]
  },
  {
   "cell_type": "code",
   "execution_count": 188,
   "metadata": {},
   "outputs": [
    {
     "name": "stderr",
     "output_type": "stream",
     "text": [
      "'c' argument looks like a single numeric RGB or RGBA sequence, which should be avoided as value-mapping will have precedence in case its length matches with 'x' & 'y'.  Please use a 2-D array with a single row if you really want to specify the same RGB or RGBA value for all points.\n"
     ]
    },
    {
     "data": {
      "image/png": "[encoded data removed]",
      "text/plain": [
       "<Figure size 450x450 with 1 Axes>"
      ]
     },
     "metadata": {},
     "output_type": "display_data"
    },
    {
     "data": {
      "text/plain": [
       "<Figure size 576x396 with 0 Axes>"
      ]
     },
     "metadata": {},
     "output_type": "display_data"
    }
   ],
   "source": [
    "title ='Lexical Dispersion Plot of most popular chunks (n=2) in last 1000 Trump tweets'\n",
    "plotLexicalDispersion(X_train.tail(1000), nr_features=20, title=title, ngram_range=(2,2))\n",
    "plt.savefig('figures/prep/LexicalDispersionPlot.png', bbox_inches='tight')"
   ]
  },
  {
   "cell_type": "markdown",
   "metadata": {},
   "source": [
    "## 3. Annotate tweets to be either Viral or not Viral (binary labelling)"
   ]
  },
  {
   "cell_type": "code",
   "execution_count": 169,
   "metadata": {},
   "outputs": [
    {
     "name": "stdout",
     "output_type": "stream",
     "text": [
      "Tweets that qualify as being popular (10% of total in exploration set):  1337\n"
     ]
    }
   ],
   "source": [
    "print('Tweets that qualify as being popular (10% of total in exploration set): ', round(len(y_train)*0.1))"
   ]
  },
  {
   "cell_type": "code",
   "execution_count": 177,
   "metadata": {},
   "outputs": [
    {
     "name": "stdout",
     "output_type": "stream",
     "text": [
      "Tweets with more than 108758 favorites are considered to be viral in Trump terms!\n"
     ]
    }
   ],
   "source": [
    "class_y_train = y_train.sort_values().reset_index()\n",
    "minimal_ix = len(y_train) - round(len(y_train)*0.1)\n",
    "cutoff = class_y_train.loc[minimal_ix]['favorites']\n",
    "print('Tweets with more than %s favorites are considered to be viral in Trump terms!' % (cutoff))\n",
    "\n",
    "# Relabel y_Train & y_test to binary label (Viral or not Viral)\n",
    "y_train_proc = y_train.sort_values().apply(lambda x: 'True' if x > cutoff else 'False')\n",
    "y_test_proc = y_test.sort_values().apply(lambda x: 'True' if x > cutoff else 'False')"
   ]
  },
  {
   "cell_type": "markdown",
   "metadata": {},
   "source": [
    "### 3.1 Distribution Favorites with cut-off"
   ]
  },
  {
   "cell_type": "code",
   "execution_count": 184,
   "metadata": {},
   "outputs": [
    {
     "data": {
      "image/png": "[encoded data removed]",
      "text/plain": [
       "<Figure size 576x396 with 1 Axes>"
      ]
     },
     "metadata": {},
     "output_type": "display_data"
    }
   ],
   "source": [
    "plt.hist(y_train.sort_values(), bins=50)\n",
    "plt.axvline(x=cutoff, color='r')\n",
    "plt.xlim(right=400000) \n",
    "plt.title('Distribution of favorites with the cut-off for viral tweets')\n",
    "plt.savefig('figures/prep/DistributionFavoriteTweets.png', bbox_inches='tight')"
   ]
  },
  {
   "cell_type": "markdown",
   "metadata": {},
   "source": [
    "### 3.2 Distribution classes (Viral / Non Viral)"
   ]
  },
  {
   "cell_type": "code",
   "execution_count": 191,
   "metadata": {},
   "outputs": [
    {
     "data": {
      "image/png": "[encoded data removed]",
      "text/plain": [
       "<Figure size 360x360 with 1 Axes>"
      ]
     },
     "metadata": {},
     "output_type": "display_data"
    }
   ],
   "source": [
    "from collections import Counter\n",
    "\n",
    "labels, values = zip(*Counter(y_train_proc).items())\n",
    "df = pd.DataFrame({'section':labels, 'frequency':values})\n",
    "ax = df.plot(kind='bar',  title =\"Distribution of Classes\", figsize=(5, 5), x='section', legend=True, fontsize=12, rot=0)"
   ]
  },
  {
   "cell_type": "markdown",
   "metadata": {},
   "source": [
    "## 4. Training of models\n",
    "\n",
    "Which model do we select: \n",
    "- SVM (known to work great on Text classification (but tweets might be too small)\n",
    "- Naive Bayes\n",
    "- Decision Tree (easy to interpret)\n",
    "- Neural Networks"
   ]
  },
  {
   "cell_type": "code",
   "execution_count": null,
   "metadata": {},
   "outputs": [],
   "source": []
  }
 ],
 "metadata": {
  "kernelspec": {
   "display_name": "Python 3",
   "language": "python",
   "name": "python3"
  },
  "language_info": {
   "codemirror_mode": {
    "name": "ipython",
    "version": 3
   },
   "file_extension": ".py",
   "mimetype": "text/x-python",
   "name": "python",
   "nbconvert_exporter": "python",
   "pygments_lexer": "ipython3",
   "version": "3.7.3"
  }
 },
 "nbformat": 4,
 "nbformat_minor": 2
}
