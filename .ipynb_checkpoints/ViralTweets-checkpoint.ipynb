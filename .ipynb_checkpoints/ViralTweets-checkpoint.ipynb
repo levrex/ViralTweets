{
 "cells": [
  {
   "cell_type": "markdown",
   "metadata": {},
   "source": [
    "# Predict viral tweets"
   ]
  },
  {
   "cell_type": "code",
   "execution_count": 48,
   "metadata": {},
   "outputs": [
    {
     "name": "stdout",
     "output_type": "stream",
     "text": [
      "Current versions Modules:\n",
      "\n",
      "Pandas version:\t\t0.24.2\n",
      "Matplotlib version:\t3.1.0\n",
      "numpy version:\t\t1.16.4\n",
      "sklearn version:\t0.21.2\n",
      "yellowbrick version:\t1.0.1\n"
     ]
    }
   ],
   "source": [
    "SEED = 26062019\n",
    "\n",
    "test_size = 0.5 \n",
    "\n",
    "import sys\n",
    "from sklearn.model_selection import train_test_split\n",
    "import numpy as np\n",
    "import pandas as pd\n",
    "from sklearn import __version__ as sk_vers\n",
    "import matplotlib.pyplot as plt\n",
    "from matplotlib import __version__ as m_vers\n",
    "import numpy as np\n",
    "from yellowbrick import __version__ as yb_vers\n",
    "from sklearn.feature_extraction.text import TfidfVectorizer\n",
    "\n",
    "print('Current versions Modules:\\n')\n",
    "print('Pandas version:\\t\\t' + pd.__version__)\n",
    "print('Matplotlib version:\\t' + m_vers)\n",
    "print('numpy version:\\t\\t' + np.__version__)\n",
    "print('sklearn version:\\t' + sk_vers)\n",
    "print('yellowbrick version:\\t' + yb_vers)"
   ]
  },
  {
   "cell_type": "markdown",
   "metadata": {},
   "source": [
    "#### install NLTK"
   ]
  },
  {
   "cell_type": "code",
   "execution_count": 4,
   "metadata": {},
   "outputs": [
    {
     "name": "stderr",
     "output_type": "stream",
     "text": [
      "[nltk_data] Downloading package wordnet to\n",
      "[nltk_data]     C:\\Users\\levrex\\AppData\\Roaming\\nltk_data...\n",
      "[nltk_data]   Package wordnet is already up-to-date!\n"
     ]
    },
    {
     "data": {
      "text/plain": [
       "True"
      ]
     },
     "execution_count": 4,
     "metadata": {},
     "output_type": "execute_result"
    }
   ],
   "source": [
    "import nltk\n",
    "nltk.download('wordnet')"
   ]
  },
  {
   "cell_type": "markdown",
   "metadata": {},
   "source": [
    "## 1. Load data"
   ]
  },
  {
   "cell_type": "code",
   "execution_count": 14,
   "metadata": {},
   "outputs": [
    {
     "name": "stdout",
     "output_type": "stream",
     "text": [
      "nr of tweets:  41122\n"
     ]
    },
    {
     "data": {
      "text/html": [
       "<div>\n",
       "<style scoped>\n",
       "    .dataframe tbody tr th:only-of-type {\n",
       "        vertical-align: middle;\n",
       "    }\n",
       "\n",
       "    .dataframe tbody tr th {\n",
       "        vertical-align: top;\n",
       "    }\n",
       "\n",
       "    .dataframe thead th {\n",
       "        text-align: right;\n",
       "    }\n",
       "</style>\n",
       "<table border=\"1\" class=\"dataframe\">\n",
       "  <thead>\n",
       "    <tr style=\"text-align: right;\">\n",
       "      <th></th>\n",
       "      <th>id</th>\n",
       "      <th>link</th>\n",
       "      <th>content</th>\n",
       "      <th>date</th>\n",
       "      <th>retweets</th>\n",
       "      <th>favorites</th>\n",
       "      <th>mentions</th>\n",
       "      <th>hashtags</th>\n",
       "      <th>geo</th>\n",
       "    </tr>\n",
       "  </thead>\n",
       "  <tbody>\n",
       "    <tr>\n",
       "      <th>0</th>\n",
       "      <td>1698308935</td>\n",
       "      <td>https://twitter.com/realDonaldTrump/status/169...</td>\n",
       "      <td>Be sure to tune in and watch Donald Trump on L...</td>\n",
       "      <td>2009-05-04 20:54:25</td>\n",
       "      <td>500</td>\n",
       "      <td>868</td>\n",
       "      <td>NaN</td>\n",
       "      <td>NaN</td>\n",
       "      <td>NaN</td>\n",
       "    </tr>\n",
       "    <tr>\n",
       "      <th>1</th>\n",
       "      <td>1701461182</td>\n",
       "      <td>https://twitter.com/realDonaldTrump/status/170...</td>\n",
       "      <td>Donald Trump will be appearing on The View tom...</td>\n",
       "      <td>2009-05-05 03:00:10</td>\n",
       "      <td>33</td>\n",
       "      <td>273</td>\n",
       "      <td>NaN</td>\n",
       "      <td>NaN</td>\n",
       "      <td>NaN</td>\n",
       "    </tr>\n",
       "    <tr>\n",
       "      <th>2</th>\n",
       "      <td>1737479987</td>\n",
       "      <td>https://twitter.com/realDonaldTrump/status/173...</td>\n",
       "      <td>Donald Trump reads Top Ten Financial Tips on L...</td>\n",
       "      <td>2009-05-08 15:38:08</td>\n",
       "      <td>12</td>\n",
       "      <td>18</td>\n",
       "      <td>NaN</td>\n",
       "      <td>NaN</td>\n",
       "      <td>NaN</td>\n",
       "    </tr>\n",
       "    <tr>\n",
       "      <th>3</th>\n",
       "      <td>1741160716</td>\n",
       "      <td>https://twitter.com/realDonaldTrump/status/174...</td>\n",
       "      <td>New Blog Post: Celebrity Apprentice Finale and...</td>\n",
       "      <td>2009-05-08 22:40:15</td>\n",
       "      <td>11</td>\n",
       "      <td>24</td>\n",
       "      <td>NaN</td>\n",
       "      <td>NaN</td>\n",
       "      <td>NaN</td>\n",
       "    </tr>\n",
       "    <tr>\n",
       "      <th>4</th>\n",
       "      <td>1773561338</td>\n",
       "      <td>https://twitter.com/realDonaldTrump/status/177...</td>\n",
       "      <td>\"My persona will never be that of a wallflower...</td>\n",
       "      <td>2009-05-12 16:07:28</td>\n",
       "      <td>1399</td>\n",
       "      <td>1965</td>\n",
       "      <td>NaN</td>\n",
       "      <td>NaN</td>\n",
       "      <td>NaN</td>\n",
       "    </tr>\n",
       "  </tbody>\n",
       "</table>\n",
       "</div>"
      ],
      "text/plain": [
       "           id                                               link  \\\n",
       "0  1698308935  https://twitter.com/realDonaldTrump/status/169...   \n",
       "1  1701461182  https://twitter.com/realDonaldTrump/status/170...   \n",
       "2  1737479987  https://twitter.com/realDonaldTrump/status/173...   \n",
       "3  1741160716  https://twitter.com/realDonaldTrump/status/174...   \n",
       "4  1773561338  https://twitter.com/realDonaldTrump/status/177...   \n",
       "\n",
       "                                             content                date  \\\n",
       "0  Be sure to tune in and watch Donald Trump on L... 2009-05-04 20:54:25   \n",
       "1  Donald Trump will be appearing on The View tom... 2009-05-05 03:00:10   \n",
       "2  Donald Trump reads Top Ten Financial Tips on L... 2009-05-08 15:38:08   \n",
       "3  New Blog Post: Celebrity Apprentice Finale and... 2009-05-08 22:40:15   \n",
       "4  \"My persona will never be that of a wallflower... 2009-05-12 16:07:28   \n",
       "\n",
       "   retweets  favorites mentions hashtags  geo  \n",
       "0       500        868      NaN      NaN  NaN  \n",
       "1        33        273      NaN      NaN  NaN  \n",
       "2        12         18      NaN      NaN  NaN  \n",
       "3        11         24      NaN      NaN  NaN  \n",
       "4      1399       1965      NaN      NaN  NaN  "
      ]
     },
     "execution_count": 14,
     "metadata": {},
     "output_type": "execute_result"
    }
   ],
   "source": [
    "df_tweets = pd.read_csv(r'input/0_initial/trumptweets.csv', sep=',')\n",
    "df_tweets['date'] = pd.to_datetime(df_tweets['date']) # interpret date as pd.datetime\n",
    "print('nr of tweets: ', len(df_tweets))\n",
    "df_tweets.head()"
   ]
  },
  {
   "cell_type": "code",
   "execution_count": 15,
   "metadata": {},
   "outputs": [
    {
     "name": "stdout",
     "output_type": "stream",
     "text": [
      "First tweet:  2009-05-04 20:54:25\n",
      "Final tweet:  2020-01-20 02:57:49\n"
     ]
    }
   ],
   "source": [
    "print('First tweet: ', df_tweets['date'].min())\n",
    "print('Final tweet: ', df_tweets['date'].max())"
   ]
  },
  {
   "cell_type": "markdown",
   "metadata": {},
   "source": [
    "### Date cut-off\n",
    "Only select tweets after the moment he announced that he was a presidential candidate"
   ]
  },
  {
   "cell_type": "code",
   "execution_count": 16,
   "metadata": {},
   "outputs": [
    {
     "data": {
      "text/plain": [
       "'# FraudNewsCNN # FNNpic.twitter.com/WYUnHjjUjg'"
      ]
     },
     "execution_count": 16,
     "metadata": {},
     "output_type": "execute_result"
    }
   ],
   "source": [
    "df_tweets.loc[32059]['content']"
   ]
  },
  {
   "cell_type": "code",
   "execution_count": 17,
   "metadata": {},
   "outputs": [
    {
     "name": "stdout",
     "output_type": "stream",
     "text": [
      "17823\n"
     ]
    }
   ],
   "source": [
    "df_tweets = df_tweets[df_tweets['date']>pd.Timestamp('2015-06-16T12')] \n",
    "print(len(df_tweets))"
   ]
  },
  {
   "cell_type": "markdown",
   "metadata": {},
   "source": [
    "### Simple Cleaning"
   ]
  },
  {
   "cell_type": "code",
   "execution_count": 18,
   "metadata": {},
   "outputs": [],
   "source": [
    "import re\n",
    "from nltk.stem import WordNetLemmatizer\n",
    "from nltk.corpus import stopwords\n",
    "from nltk.tokenize import TweetTokenizer\n",
    "\n",
    "def lemmatizingText(sentence):\n",
    "    \"\"\"\n",
    "    This function normalizes words with the pattern.nl package. \n",
    "    Lemmatisation returns words to the base form. The base form\n",
    "    should be a valid word in the language.\n",
    "    Example: Walking, Walks and Walked are all translated to \n",
    "        Walk\n",
    "        \n",
    "    Input: \n",
    "        sentence = written text from an EHR record or another\n",
    "            Natural Language type record (str)\n",
    "    \"\"\"\n",
    "    lemmatizer = WordNetLemmatizer() \n",
    "    return ' '.join([lemmatizer.lemmatize(x) for x in sentence.split(' ')])\n",
    "\n",
    "def simpleCleaning(sentence):\n",
    "    # at this moment we ignore whether or not a term is tagged\n",
    "    sticky_chars = r'([!,.:\";@\\-#\\+\\\\/&=\\]\\[<>^\\*`â€™\\(\\)’\\d])'\n",
    "    sentence = re.sub(sticky_chars, r' ', sentence)\n",
    "    sentence = sentence.lower()\n",
    "    return sentence\n",
    "\n",
    "def removeStopWords(sentence):\n",
    "    return ' '.join([i for i in tweet_tokenizer.tokenize(sentence) if i not in stopwords.words('english')])\n",
    "\n",
    "tweet_tokenizer = TweetTokenizer()\n",
    "\n",
    "# convert to lowercase\n",
    "df_tweets['content'] = df_tweets['content'].str.lower()\n",
    "# remove links (pic is used for pictures)\n",
    "df_tweets['content'] = df_tweets['content'].str.replace('http\\S+|www.\\S+|pic.\\S+', '', case=False) #tweet_tokens\n",
    "# simple cleaning\n",
    "df_tweets['content'] = df_tweets['content'].apply(lambda x : simpleCleaning(x))       \n",
    "# lemmatizing\n",
    "df_tweets['content'] = df_tweets['content'].apply(lambda x : lemmatizingText(x))     \n",
    "# remove stop words\n",
    "df_tweets['content'] = df_tweets['content'].apply(lambda x : removeStopWords(x))\n",
    "# remove spaces\n",
    "df_tweets['content'] = df_tweets['content'].str.replace(' +', ' ', case=False)"
   ]
  },
  {
   "cell_type": "markdown",
   "metadata": {},
   "source": [
    "## Most popular tweet"
   ]
  },
  {
   "cell_type": "code",
   "execution_count": 5,
   "metadata": {},
   "outputs": [
    {
     "data": {
      "text/html": [
       "<div>\n",
       "<style scoped>\n",
       "    .dataframe tbody tr th:only-of-type {\n",
       "        vertical-align: middle;\n",
       "    }\n",
       "\n",
       "    .dataframe tbody tr th {\n",
       "        vertical-align: top;\n",
       "    }\n",
       "\n",
       "    .dataframe thead th {\n",
       "        text-align: right;\n",
       "    }\n",
       "</style>\n",
       "<table border=\"1\" class=\"dataframe\">\n",
       "  <thead>\n",
       "    <tr style=\"text-align: right;\">\n",
       "      <th></th>\n",
       "      <th>id</th>\n",
       "      <th>link</th>\n",
       "      <th>content</th>\n",
       "      <th>date</th>\n",
       "      <th>retweets</th>\n",
       "      <th>favorites</th>\n",
       "      <th>mentions</th>\n",
       "      <th>hashtags</th>\n",
       "      <th>geo</th>\n",
       "    </tr>\n",
       "  </thead>\n",
       "  <tbody>\n",
       "    <tr>\n",
       "      <th>38625</th>\n",
       "      <td>1157345692517634049</td>\n",
       "      <td>https://twitter.com/realDonaldTrump/status/115...</td>\n",
       "      <td>$ ap rocky released prison way home united sta...</td>\n",
       "      <td>2019-08-02 19:41:30</td>\n",
       "      <td>240363</td>\n",
       "      <td>857678</td>\n",
       "      <td>NaN</td>\n",
       "      <td>NaN</td>\n",
       "      <td>NaN</td>\n",
       "    </tr>\n",
       "  </tbody>\n",
       "</table>\n",
       "</div>"
      ],
      "text/plain": [
       "                        id                                               link  \\\n",
       "38625  1157345692517634049  https://twitter.com/realDonaldTrump/status/115...   \n",
       "\n",
       "                                                 content                date  \\\n",
       "38625  $ ap rocky released prison way home united sta... 2019-08-02 19:41:30   \n",
       "\n",
       "       retweets  favorites mentions hashtags  geo  \n",
       "38625    240363     857678      NaN      NaN  NaN  "
      ]
     },
     "execution_count": 5,
     "metadata": {},
     "output_type": "execute_result"
    }
   ],
   "source": [
    "df_tweets[df_tweets['favorites']==df_tweets['favorites'].max()]"
   ]
  },
  {
   "cell_type": "code",
   "execution_count": 6,
   "metadata": {},
   "outputs": [
    {
     "data": {
      "text/html": [
       "<div>\n",
       "<style scoped>\n",
       "    .dataframe tbody tr th:only-of-type {\n",
       "        vertical-align: middle;\n",
       "    }\n",
       "\n",
       "    .dataframe tbody tr th {\n",
       "        vertical-align: top;\n",
       "    }\n",
       "\n",
       "    .dataframe thead th {\n",
       "        text-align: right;\n",
       "    }\n",
       "</style>\n",
       "<table border=\"1\" class=\"dataframe\">\n",
       "  <thead>\n",
       "    <tr style=\"text-align: right;\">\n",
       "      <th></th>\n",
       "      <th>id</th>\n",
       "      <th>link</th>\n",
       "      <th>content</th>\n",
       "      <th>date</th>\n",
       "      <th>retweets</th>\n",
       "      <th>favorites</th>\n",
       "      <th>mentions</th>\n",
       "      <th>hashtags</th>\n",
       "      <th>geo</th>\n",
       "    </tr>\n",
       "  </thead>\n",
       "  <tbody>\n",
       "    <tr>\n",
       "      <th>32059</th>\n",
       "      <td>881503147168071680</td>\n",
       "      <td>https://twitter.com/realDonaldTrump/status/881...</td>\n",
       "      <td>fraudnewscnn fnn</td>\n",
       "      <td>2017-07-02 15:21:42</td>\n",
       "      <td>309892</td>\n",
       "      <td>528265</td>\n",
       "      <td>NaN</td>\n",
       "      <td># #</td>\n",
       "      <td>NaN</td>\n",
       "    </tr>\n",
       "  </tbody>\n",
       "</table>\n",
       "</div>"
      ],
      "text/plain": [
       "                       id                                               link  \\\n",
       "32059  881503147168071680  https://twitter.com/realDonaldTrump/status/881...   \n",
       "\n",
       "                content                date  retweets  favorites mentions  \\\n",
       "32059  fraudnewscnn fnn 2017-07-02 15:21:42    309892     528265      NaN   \n",
       "\n",
       "      hashtags  geo  \n",
       "32059      # #  NaN  "
      ]
     },
     "execution_count": 6,
     "metadata": {},
     "output_type": "execute_result"
    }
   ],
   "source": [
    "df_tweets[df_tweets['retweets']==df_tweets['retweets'].max()]"
   ]
  },
  {
   "cell_type": "code",
   "execution_count": 19,
   "metadata": {},
   "outputs": [],
   "source": [
    "df_tweets.to_csv(r'input/1_preprocessed/trumptweets_proc.csv', index = False, header=True)\n"
   ]
  },
  {
   "cell_type": "markdown",
   "metadata": {},
   "source": [
    "## 2. Create Train, Validation & Test set"
   ]
  },
  {
   "cell_type": "code",
   "execution_count": 2,
   "metadata": {},
   "outputs": [
    {
     "name": "stdout",
     "output_type": "stream",
     "text": [
      "nr of tweets:  17823\n"
     ]
    },
    {
     "data": {
      "text/html": [
       "<div>\n",
       "<style scoped>\n",
       "    .dataframe tbody tr th:only-of-type {\n",
       "        vertical-align: middle;\n",
       "    }\n",
       "\n",
       "    .dataframe tbody tr th {\n",
       "        vertical-align: top;\n",
       "    }\n",
       "\n",
       "    .dataframe thead th {\n",
       "        text-align: right;\n",
       "    }\n",
       "</style>\n",
       "<table border=\"1\" class=\"dataframe\">\n",
       "  <thead>\n",
       "    <tr style=\"text-align: right;\">\n",
       "      <th></th>\n",
       "      <th>id</th>\n",
       "      <th>link</th>\n",
       "      <th>content</th>\n",
       "      <th>date</th>\n",
       "      <th>retweets</th>\n",
       "      <th>favorites</th>\n",
       "      <th>mentions</th>\n",
       "      <th>hashtags</th>\n",
       "      <th>geo</th>\n",
       "    </tr>\n",
       "  </thead>\n",
       "  <tbody>\n",
       "    <tr>\n",
       "      <th>0</th>\n",
       "      <td>610784050060632065</td>\n",
       "      <td>https://twitter.com/realDonaldTrump/status/610...</td>\n",
       "      <td>big time u today make america great politician...</td>\n",
       "      <td>2015-06-16 14:20:40</td>\n",
       "      <td>283</td>\n",
       "      <td>439</td>\n",
       "      <td>NaN</td>\n",
       "      <td>NaN</td>\n",
       "      <td>NaN</td>\n",
       "    </tr>\n",
       "    <tr>\n",
       "      <th>1</th>\n",
       "      <td>610785062599139328</td>\n",
       "      <td>https://twitter.com/realDonaldTrump/status/610...</td>\n",
       "      <td>thanks …</td>\n",
       "      <td>2015-06-16 14:24:41</td>\n",
       "      <td>47</td>\n",
       "      <td>143</td>\n",
       "      <td>NaN</td>\n",
       "      <td>NaN</td>\n",
       "      <td>NaN</td>\n",
       "    </tr>\n",
       "    <tr>\n",
       "      <th>2</th>\n",
       "      <td>610794115316498432</td>\n",
       "      <td>https://twitter.com/realDonaldTrump/status/610...</td>\n",
       "      <td>appsame going listen realdonaldtrump really ru...</td>\n",
       "      <td>2015-06-16 15:00:39</td>\n",
       "      <td>47</td>\n",
       "      <td>96</td>\n",
       "      <td>@ @</td>\n",
       "      <td>NaN</td>\n",
       "      <td>NaN</td>\n",
       "    </tr>\n",
       "    <tr>\n",
       "      <th>3</th>\n",
       "      <td>610794978055467010</td>\n",
       "      <td>https://twitter.com/realDonaldTrump/status/610...</td>\n",
       "      <td>almost time making major announcement trumptow...</td>\n",
       "      <td>2015-06-16 15:04:05</td>\n",
       "      <td>424</td>\n",
       "      <td>817</td>\n",
       "      <td>@</td>\n",
       "      <td>#</td>\n",
       "      <td>NaN</td>\n",
       "    </tr>\n",
       "    <tr>\n",
       "      <th>4</th>\n",
       "      <td>610795920448425984</td>\n",
       "      <td>https://twitter.com/realDonaldTrump/status/610...</td>\n",
       "      <td>make sure follow periscopeco makeamericagreata...</td>\n",
       "      <td>2015-06-16 15:07:50</td>\n",
       "      <td>67</td>\n",
       "      <td>171</td>\n",
       "      <td>@</td>\n",
       "      <td>#</td>\n",
       "      <td>NaN</td>\n",
       "    </tr>\n",
       "  </tbody>\n",
       "</table>\n",
       "</div>"
      ],
      "text/plain": [
       "                   id                                               link  \\\n",
       "0  610784050060632065  https://twitter.com/realDonaldTrump/status/610...   \n",
       "1  610785062599139328  https://twitter.com/realDonaldTrump/status/610...   \n",
       "2  610794115316498432  https://twitter.com/realDonaldTrump/status/610...   \n",
       "3  610794978055467010  https://twitter.com/realDonaldTrump/status/610...   \n",
       "4  610795920448425984  https://twitter.com/realDonaldTrump/status/610...   \n",
       "\n",
       "                                             content                date  \\\n",
       "0  big time u today make america great politician... 2015-06-16 14:20:40   \n",
       "1                                           thanks … 2015-06-16 14:24:41   \n",
       "2  appsame going listen realdonaldtrump really ru... 2015-06-16 15:00:39   \n",
       "3  almost time making major announcement trumptow... 2015-06-16 15:04:05   \n",
       "4  make sure follow periscopeco makeamericagreata... 2015-06-16 15:07:50   \n",
       "\n",
       "   retweets  favorites mentions hashtags  geo  \n",
       "0       283        439      NaN      NaN  NaN  \n",
       "1        47        143      NaN      NaN  NaN  \n",
       "2        47         96      @ @      NaN  NaN  \n",
       "3       424        817        @        #  NaN  \n",
       "4        67        171        @        #  NaN  "
      ]
     },
     "execution_count": 2,
     "metadata": {},
     "output_type": "execute_result"
    }
   ],
   "source": [
    "import pandas as pd\n",
    "\n",
    "df_tweets = pd.read_csv(r'input/1_preprocessed/trumptweets_proc.csv', sep=',')\n",
    "df_tweets['date'] = pd.to_datetime(df_tweets['date']) # interpret date as pd.datetime\n",
    "print('nr of tweets: ', len(df_tweets))\n",
    "df_tweets['content'] = df_tweets['content'].fillna('empty')\n",
    "df_tweets.head()"
   ]
  },
  {
   "cell_type": "code",
   "execution_count": 3,
   "metadata": {},
   "outputs": [
    {
     "name": "stdout",
     "output_type": "stream",
     "text": [
      "Size train:\t 13367\n",
      "Size test:\t 4456\n"
     ]
    }
   ],
   "source": [
    "from sklearn.model_selection import train_test_split\n",
    "SEED = 232020\n",
    "\n",
    "X = df_tweets['content']\n",
    "y = df_tweets['retweets']\n",
    "\n",
    "X_train, X_test, y_train, y_test = train_test_split(X, y, test_size=0.25, random_state=SEED)\n",
    "\n",
    "df_train = pd.DataFrame(data={'X': X_train, 'y': y_train})\n",
    "df_test = pd.DataFrame(data={'X': X_test, 'y': y_test})\n",
    "\n",
    "print('Size train:\\t', len(df_train))\n",
    "print('Size test:\\t', len(df_test))"
   ]
  },
  {
   "cell_type": "markdown",
   "metadata": {},
   "source": [
    "## 3. Visualize Exploration data\n",
    "### 3.1 Lexical plot of trainingsset"
   ]
  },
  {
   "cell_type": "code",
   "execution_count": 81,
   "metadata": {},
   "outputs": [],
   "source": [
    "from yellowbrick.text import DispersionPlot\n",
    "\n",
    "def plotLexicalDispersion(X, nr_features, title, **kwargs):\n",
    "    \"\"\"\n",
    "    Draws a lexical dispersion plot which visualizes \n",
    "    the homogeneity across the corpus. \n",
    "    \n",
    "    Also confirms wheter or not the data is randomized, \n",
    "    and visualizes the prevalence of features.\n",
    "    \n",
    "    Input:\n",
    "        X = array with text data (EHR entries)\n",
    "        nr_features = top n number of features to plot\n",
    "        n_grams = chunksize for text processing :\n",
    "            Note: chunksize refers to nr of words / not nr of \n",
    "                characters!\n",
    "        kwargs = arguments for feature vectorizer (TfidfVectorizer):\n",
    "            ngram_range = specifies the range of the ngram features\n",
    "    \"\"\"\n",
    "    count = 0\n",
    "    d = {}\n",
    "    words = []\n",
    "    for x in X:\n",
    "        if kwargs['ngram_range'][1] != 1:\n",
    "            # functie crasht bij hashtags\n",
    "            l = [i for i in x.split(' ')]\n",
    "            words.append([' '.join(l[i: i+(kwargs['ngram_range'][1])]) for i in range(len(l)+1) if len(l[i: i+(kwargs['ngram_range'][0])]) <= (kwargs['ngram_range'][1])])\n",
    "            \n",
    "            #print(words)\n",
    "            if len(words[-1]) == 0:\n",
    "                del words[-1]\n",
    "        else :\n",
    "            words.append([i for i in x.split(' ')])\n",
    "        count+=1\n",
    "    d = np.array(words)\n",
    "    count_vect = TfidfVectorizer(ngram_range=kwargs['ngram_range'])\n",
    "    \n",
    "    \n",
    "    X_train_tfidf = count_vect.fit_transform(X) \n",
    "    X_pd = pd.DataFrame(X_train_tfidf.toarray(), columns=count_vect.get_feature_names())\n",
    "    feature_to_plot =list(X_pd.sum().sort_values(ascending=False).keys()[:nr_features]) \n",
    "    visualizer = DispersionPlot(feature_to_plot, size=(450, 450))\n",
    "    ax = visualizer.ax\n",
    "    ax.tick_params(labelsize=18)\n",
    "    visualizer.fit(d)\n",
    "    visualizer.poof()\n",
    "    return"
   ]
  },
  {
   "cell_type": "code",
   "execution_count": 82,
   "metadata": {},
   "outputs": [
    {
     "name": "stderr",
     "output_type": "stream",
     "text": [
      "C:\\Users\\levrex\\Anaconda3\\lib\\site-packages\\yellowbrick\\text\\dispersion.py:173: FutureWarning: arrays to stack must be passed as a \"sequence\" type such as list or tuple. Support for non-sequence iterables such as generators is deprecated as of NumPy 1.16 and will raise an error in the future.\n",
      "  points_target = np.stack(self._compute_dispersion(X, y))\n",
      "C:\\Users\\levrex\\Anaconda3\\lib\\site-packages\\yellowbrick\\text\\dispersion.py:177: FutureWarning: arrays to stack must be passed as a \"sequence\" type such as list or tuple. Support for non-sequence iterables such as generators is deprecated as of NumPy 1.16 and will raise an error in the future.\n",
      "  zip(points_target[:, 0].astype(int), points_target[:, 1].astype(int))\n",
      "'c' argument looks like a single numeric RGB or RGBA sequence, which should be avoided as value-mapping will have precedence in case its length matches with 'x' & 'y'.  Please use a 2-D array with a single row if you really want to specify the same RGB or RGBA value for all points.\n"
     ]
    },
    {
     "data": {
      "image/png": "[encoded data removed]",
      "text/plain": [
       "<Figure size 450x450 with 1 Axes>"
      ]
     },
     "metadata": {},
     "output_type": "display_data"
    },
    {
     "data": {
      "text/plain": [
       "<Figure size 576x396 with 0 Axes>"
      ]
     },
     "metadata": {},
     "output_type": "display_data"
    }
   ],
   "source": [
    "title ='Lexical Dispersion Plot of most popular chunks (n=2) in last 1000 Trump tweets'\n",
    "plotLexicalDispersion(df_train['X'].tail(1000), nr_features=20, title=title, ngram_range=(1,1))\n",
    "plt.savefig('figures/prep/LexicalDispersionPlot.png', bbox_inches='tight')"
   ]
  },
  {
   "cell_type": "code",
   "execution_count": 83,
   "metadata": {},
   "outputs": [
    {
     "data": {
      "text/plain": [
       "<module 'matplotlib.pyplot' from 'C:\\\\Users\\\\levrex\\\\Anaconda3\\\\lib\\\\site-packages\\\\matplotlib\\\\pyplot.py'>"
      ]
     },
     "execution_count": 83,
     "metadata": {},
     "output_type": "execute_result"
    },
    {
     "data": {
      "image/png": "[encoded data removed]",
      "text/plain": [
       "<Figure size 1080x1152 with 1 Axes>"
      ]
     },
     "metadata": {},
     "output_type": "display_data"
    }
   ],
   "source": [
    "from sklearn import datasets\n",
    "from yellowbrick.target import FeatureCorrelation\n",
    "from sklearn.feature_extraction.text import TfidfVectorizer\n",
    "from sklearn.feature_selection import chi2\n",
    "\n",
    "def plotFeatureChiSquared(X_train_fold, y_train_fold, nr_features, **kwargs):\n",
    "    \"\"\"\n",
    "    Draw a chi squared plot for the top n features\n",
    "    \n",
    "    Input:\n",
    "        X_train_fold = array with text data (EHR entries) from\n",
    "            trainingsset\n",
    "        y_train_fold = labels of the trainingsset\n",
    "        nr_features = specifies the nr of features to draw \n",
    "            (descending order)\n",
    "        n_grams = chunk text on n_grams / motifs rather than\n",
    "            on whitespace\n",
    "        kwargs = arguments for feature vectorizer (TfidfVectorizer):\n",
    "            ngram_range = specifies the range of the ngram features\n",
    "    Output:\n",
    "        plt = matplotlib pyplot showcasing the correlation for\n",
    "            each of the most occurring features\n",
    "    \"\"\"\n",
    "    tvec = TfidfVectorizer(max_features=100000,ngram_range=(1, 3))\n",
    "    x_train_tfidf = tvec.fit_transform(X_train_fold)\n",
    "    chi2score = chi2(x_train_tfidf, y_train_fold)[0]\n",
    "    \n",
    "    plt.figure(figsize=(15 ,10+ 6*(nr_features/20)))\n",
    "    wscores = zip(tvec.get_feature_names(), chi2score)\n",
    "    wchi2 = sorted(wscores, key=lambda x:x[1])\n",
    "    topchi2 = list(zip(*wchi2[-nr_features:]))\n",
    "    #topchi2 = list(zip(*wchi2[:nr_features]))\n",
    "    \n",
    "    x = range(len(topchi2[1]))\n",
    "    labels = topchi2[0]\n",
    "    plt.barh(x ,topchi2[1], align='center', alpha=0.2)\n",
    "    plt.plot(topchi2[1], x , '-o', markersize=5, alpha=0.8)\n",
    "    plt.yticks(x, labels, fontsize=18)\n",
    "    plt.xticks(fontsize=16)\n",
    "    plt.xlabel('$\\chi^2$', fontsize=18)\n",
    "    plt.title('Chi-squared test of top ' + str(nr_features) + \n",
    "                  ' features', fontsize=20, fontweight='bold')\n",
    "    return plt\n",
    "\n",
    "# Instantiate the visualizer\n",
    "\n",
    "\n",
    "#visualizer.fit(X, y)        # Fit the data to the visualizer\n",
    "#visualizer.show()       \n",
    "title ='Lexical Dispersion Plot of most popular chunks (n=2) in last 1000 Trump tweets'\n",
    "plotFeatureChiSquared(df_train['X'].tail(1000), df_train['y'].tail(1000), nr_features=20, title=title, ngram_range=(1,1))"
   ]
  },
  {
   "cell_type": "markdown",
   "metadata": {},
   "source": [
    "## 3. Annotate tweets to be either Viral or not Viral (binary labelling)"
   ]
  },
  {
   "cell_type": "code",
   "execution_count": 4,
   "metadata": {},
   "outputs": [
    {
     "name": "stdout",
     "output_type": "stream",
     "text": [
      "Tweets that qualify as being popular (10% of total in exploration set):  3342\n"
     ]
    }
   ],
   "source": [
    "print('Tweets that qualify as being popular (10% of total in exploration set): ', round(len(df_train['y'])*0.25))"
   ]
  },
  {
   "cell_type": "code",
   "execution_count": 5,
   "metadata": {},
   "outputs": [
    {
     "name": "stdout",
     "output_type": "stream",
     "text": [
      "Tweets with more than 18145 retweets are considered to be viral in Trump terms!\n"
     ]
    }
   ],
   "source": [
    "df_train = df_train.sort_values(by='y').reset_index()\n",
    "class_y_train = df_train['y']\n",
    "minimal_ix = len(y_train) - round(len(y_train)*0.25)\n",
    "cutoff = class_y_train.loc[minimal_ix]\n",
    "print('Tweets with more than %s retweets are considered to be viral in Trump terms!' % (cutoff))\n",
    "\n",
    "# Relabel y_Train & y_test to binary label (Viral or not Viral)\n",
    "df_train['label'] = df_train['y'].sort_values().apply(lambda x: 'True' if x > cutoff else 'False')\n",
    "df_test['label'] = df_test['y'].sort_values().apply(lambda x: 'True' if x > cutoff else 'False')"
   ]
  },
  {
   "cell_type": "markdown",
   "metadata": {},
   "source": [
    "### 3.1 Distribution Favorites with cut-off"
   ]
  },
  {
   "cell_type": "code",
   "execution_count": 6,
   "metadata": {},
   "outputs": [
    {
     "data": {
      "image/png": "[encoded data removed]",
      "text/plain": [
       "<Figure size 432x288 with 1 Axes>"
      ]
     },
     "metadata": {
      "needs_background": "light"
     },
     "output_type": "display_data"
    }
   ],
   "source": [
    "plt.hist(df_train['y'].sort_values(), bins=50)\n",
    "plt.axvline(x=cutoff, color='r')\n",
    "plt.xlim(right=100000) \n",
    "plt.title('Distribution of retweets with the cut-off for viral tweets')\n",
    "plt.savefig('figures/prep/DistributionFavoriteTweets.png', bbox_inches='tight')"
   ]
  },
  {
   "cell_type": "markdown",
   "metadata": {},
   "source": [
    "### 3.2 Distribution classes (Viral / Non Viral)"
   ]
  },
  {
   "cell_type": "code",
   "execution_count": 8,
   "metadata": {},
   "outputs": [
    {
     "data": {
      "image/png": "[encoded data removed]",
      "text/plain": [
       "<Figure size 360x360 with 1 Axes>"
      ]
     },
     "metadata": {
      "needs_background": "light"
     },
     "output_type": "display_data"
    }
   ],
   "source": [
    "from collections import Counter\n",
    "\n",
    "labels, values = zip(*Counter(df_train['label']).items())\n",
    "df = pd.DataFrame({'section':labels, 'frequency':values})\n",
    "ax = df.plot(kind='bar',  title =\"Distribution of Classes\", figsize=(5, 5), x='section', legend=True, fontsize=12, rot=0)"
   ]
  },
  {
   "cell_type": "markdown",
   "metadata": {},
   "source": [
    "### 3.3 Shuffle Dataset"
   ]
  },
  {
   "cell_type": "code",
   "execution_count": 7,
   "metadata": {},
   "outputs": [],
   "source": [
    "df_train = df_train.sample(frac=1)\n",
    "df_test = df_test.sample(frac=1)"
   ]
  },
  {
   "cell_type": "markdown",
   "metadata": {},
   "source": [
    "## 4. Investigating Vector space (Word2Vec)"
   ]
  },
  {
   "cell_type": "code",
   "execution_count": 28,
   "metadata": {},
   "outputs": [
    {
     "name": "stderr",
     "output_type": "stream",
     "text": [
      "[nltk_data] Downloading package stopwords to\n",
      "[nltk_data]     C:\\Users\\levrex\\AppData\\Roaming\\nltk_data...\n",
      "[nltk_data]   Package stopwords is already up-to-date!\n"
     ]
    },
    {
     "data": {
      "text/plain": [
       "True"
      ]
     },
     "execution_count": 28,
     "metadata": {},
     "output_type": "execute_result"
    }
   ],
   "source": [
    "import nltk\n",
    "nltk.download('stopwords')"
   ]
  },
  {
   "cell_type": "markdown",
   "metadata": {},
   "source": [
    "### 4.1 creating Vectorspace with Word2Vec"
   ]
  },
  {
   "cell_type": "code",
   "execution_count": null,
   "metadata": {},
   "outputs": [],
   "source": [
    "from sklearn.naive_bayes import MultinomialNB\n",
    "import gensim \n",
    "from gensim.models import Word2Vec\n",
    "tweet_tokens = []\n",
    "\n",
    "# later on respect the l_folds\n",
    "\n",
    "for sent in X_train:\n",
    "    tweet_tokens.append(tweet_tokenizer.tokenize(sent))\n",
    "\n",
    "print('Training word2vec model...')\n",
    "word2vec = Word2Vec(tweet_tokens, size=100, window=5, min_count=5, workers=4)  \n",
    "word2vec.init_sims(replace=True)\n"
   ]
  },
  {
   "cell_type": "markdown",
   "metadata": {},
   "source": [
    "### 4.2 Investigating the vector space"
   ]
  },
  {
   "cell_type": "code",
   "execution_count": 234,
   "metadata": {},
   "outputs": [
    {
     "name": "stdout",
     "output_type": "stream",
     "text": [
      "Cosine similarity:\n",
      "'america' and 'great':\t 0.96070176\n",
      "'american' and 'great':\t 0.7700361\n",
      "'cnn' and 'fake':\t 0.8299973\n",
      "'democrat' and 'great':\t 0.16770846\n",
      "'Hillary' and 'great':\t -0.0682913\n",
      "'Hillary' and 'crooked': 0.9585856\n"
     ]
    }
   ],
   "source": [
    "print(\"Cosine similarity:\\n'america' and 'great':\\t\", word2vec.wv.similarity('america', 'great')) \n",
    "print(\"'american' and 'great':\\t\", word2vec.wv.similarity('american', 'great')) \n",
    "print(\"'cnn' and 'fake':\\t\", word2vec.wv.similarity('cnn', 'fake'))\n",
    "print(\"'democrat' and 'great':\\t\", word2vec.wv.similarity('democrat', 'great')) \n",
    "print(\"'Hillary' and 'great':\\t\", word2vec.wv.similarity('hillary', 'great')) \n",
    "print(\"'Hillary' and 'crooked':\", word2vec.wv.similarity('hillary', 'crooked')) "
   ]
  },
  {
   "cell_type": "code",
   "execution_count": 239,
   "metadata": {},
   "outputs": [
    {
     "name": "stdout",
     "output_type": "stream",
     "text": [
      "News + Trump - FoxNews =  [('cnn', 0.8376795053482056)]\n",
      "News + Trump - CNN =  [('foxnews', 0.851902961730957)]\n",
      "Which one doesn't match: Trump, Democrat, Republican and Foxnews: democrat\n"
     ]
    }
   ],
   "source": [
    "print(\"News + Trump - FoxNews = \", word2vec.wv.most_similar(positive=['news', 'trump'], negative=['foxnews'], topn=1))\n",
    "print(\"News + Trump - CNN = \", word2vec.wv.most_similar(positive=['news', 'trump'], negative=['cnn'], topn=1))\n",
    "print(\"Which one doesn't match: Trump, Democrat, Republican and Foxnews:\", word2vec.wv.doesnt_match(\"trump democrat republican foxnews\".split()))"
   ]
  },
  {
   "cell_type": "code",
   "execution_count": 247,
   "metadata": {},
   "outputs": [
    {
     "name": "stdout",
     "output_type": "stream",
     "text": [
      "Most associations with Hillary\n"
     ]
    },
    {
     "data": {
      "text/plain": [
       "[('clinton', 0.9729011058807373),\n",
       " ('crooked', 0.9585856199264526),\n",
       " ('flunky', 0.8961525559425354),\n",
       " ('campaign', 0.8677566647529602),\n",
       " ('foundation', 0.8625138998031616)]"
      ]
     },
     "execution_count": 247,
     "metadata": {},
     "output_type": "execute_result"
    }
   ],
   "source": [
    "print(\"Most associations with Hillary\")\n",
    "word2vec.wv.similar_by_word(\"hillary\", 5)"
   ]
  },
  {
   "cell_type": "markdown",
   "metadata": {},
   "source": [
    "## 5. Build Classifier \n",
    "1. Use TFIDF vectorizer (Word2Vec cannot be used for a classifier?)\n",
    "2. Use ROC curve with 5 cross folds "
   ]
  },
  {
   "cell_type": "markdown",
   "metadata": {},
   "source": [
    "### 5.1 Initialize necessary functions"
   ]
  },
  {
   "cell_type": "code",
   "execution_count": 18,
   "metadata": {},
   "outputs": [],
   "source": [
    "from sklearn.metrics import accuracy_score, classification_report, roc_curve, auc\n",
    "\n",
    "def plotSTD(tprs, aucs, color, lbl, linestyle='-', lw=5):\n",
    "        \"\"\"\n",
    "        Plot the standard deviation of the ROC-curves\n",
    "\n",
    "        Input:\n",
    "            tprs = list of true positive rates per iteration\n",
    "            aucs = list of area under the curve per iteration\n",
    "            lbl = name of the classifier (string)\n",
    "            color = specify color of the classifier\n",
    "            lw = linewidth (float)\n",
    "        Output:\n",
    "            plt = matplotlib pyplot featuring the standard \n",
    "                deviation of the ROC curve from the classifier\n",
    "            std_auc = standard deviation of the auc (float)\n",
    "        \"\"\"\n",
    "        mean_fpr = np.linspace(0, 1, 100)\n",
    "        mean_tpr = np.mean(tprs, axis=0)\n",
    "        mean_tpr [-1] = 1.0\n",
    "        mean_auc = auc(mean_fpr, mean_tpr)\n",
    "        std_auc = np.std(aucs)\n",
    "        std_tpr = np.std(tprs, axis=0)\n",
    "        tprs_upper = np.minimum(mean_tpr + std_tpr, 1)\n",
    "        tprs_lower = np.maximum(mean_tpr - std_tpr, 0)\n",
    "        print(lbl + ' ' + str(mean_auc) +' (std : +/-' + \"%.2f\" % std_auc + ' )')\n",
    "        plt.plot(mean_fpr, mean_tpr, color=color,\n",
    "            label=lbl + r' mean kfold (AUC = %.2f +/- %.2f)' % (mean_auc, std_auc),\n",
    "            alpha=1, linestyle=linestyle, linewidth=lw)\n",
    "        plt.fill_between(mean_fpr, tprs_lower, tprs_upper, color=color, alpha=.1)\n",
    "        return plt \n",
    "    \n",
    "    \n",
    "def plotSwarm(Y, X, lbl):\n",
    "    df = pd.DataFrame(data={'Y': Y, 'X': X})\n",
    "    fig = sns.swarmplot(x=\"X\", y=\"Y\", data=df)\n",
    "    plt.ylabel('Probability')\n",
    "    plt.xlabel('Label')\n",
    "    plt.title('Swarm plot ' + str(lbl))\n",
    "    return fig"
   ]
  },
  {
   "cell_type": "code",
   "execution_count": 9,
   "metadata": {},
   "outputs": [],
   "source": [
    "import collections\n",
    "\n",
    "def plot_confusion_matrix(y_pred, y_true, lbl, classes=[0,1],\n",
    "                          normalize=False,\n",
    "                          title=None,\n",
    "                          cmap=plt.cm.Blues):\n",
    "    \"\"\"\n",
    "    [SKLEARN function]\n",
    "    This function prints and plots the confusion matrix.\n",
    "    Normalization can be applied by setting `normalize=True`.\n",
    "    \"\"\"\n",
    "    if not title:\n",
    "        if normalize:\n",
    "            title = 'Normalized confusion matrix'\n",
    "        else:\n",
    "            title = 'Confusion matrix'\n",
    "\n",
    "    # Compute confusion matrix\n",
    "    cm = confusion_matrix(y_true, y_pred)\n",
    "    # Only use the labels that appear in the data\n",
    "    #classes = classes[unique_labels(y_true, y_pred)]\n",
    "    if normalize:\n",
    "        cm = cm.astype('float') / cm.sum(axis=1)[:, np.newaxis]\n",
    "\n",
    "    fig, ax = plt.subplots()\n",
    "    im = ax.imshow(cm, interpolation='nearest', cmap=cmap)\n",
    "    ax.figure.colorbar(im, ax=ax)\n",
    "    # We want to show all ticks...\n",
    "    ax.set(xticks=np.arange(cm.shape[1]),\n",
    "           yticks=np.arange(cm.shape[0]),\n",
    "           # ... and label them with the respective list entries\n",
    "           xticklabels=classes, yticklabels=classes,\n",
    "           title=title,\n",
    "           ylabel='True label',\n",
    "           xlabel='Predicted label')\n",
    "\n",
    "    # Rotate the tick labels and set their alignment.\n",
    "    plt.setp(ax.get_xticklabels(), rotation=45, ha=\"right\",\n",
    "             rotation_mode=\"anchor\")\n",
    "\n",
    "    # Loop over data dimensions and create text annotations.\n",
    "    fmt = '.2f' if normalize else 'd'\n",
    "    thresh = cm.max() / 2.\n",
    "    for i in range(cm.shape[0]):\n",
    "        for j in range(cm.shape[1]):\n",
    "            ax.text(j, i, format(cm[i, j], fmt),\n",
    "                    ha=\"center\", va=\"center\",\n",
    "                    color=\"white\" if cm[i, j] > thresh else \"black\")\n",
    "    fig.tight_layout()\n",
    "    return ax\n",
    "    \n",
    "def calculateAUC(x, y):\n",
    "    \"\"\"\n",
    "    Calculate AUC by parts by calculating the surface area of a \n",
    "    trapzoid.\n",
    "\n",
    "    x = x-axes \n",
    "    y = y-axes (interpolated with x)\n",
    "    \"\"\"\n",
    "    auc = 0\n",
    "    for i in range(1,len(y)):\n",
    "        last_x = x[i-1]\n",
    "        last_y = y[i-1]\n",
    "        cur_x = x[i]\n",
    "        cur_y = y[i]\n",
    "        auc += np.trapz([last_y, cur_y], [last_x, cur_x])\n",
    "    return auc\n",
    "\n",
    "def sortedPredictionList(b_pred, y_test):\n",
    "    \"\"\"\n",
    "    This function sorts the list of true labels by the\n",
    "    list of predictions. The sorted list of true labels\n",
    "    can be used to create a ROC-curve for a non-probability\n",
    "    classifier (a.k.a. a binary classifier like decision tree).\n",
    "\n",
    "    Input:\n",
    "        b_pred = list of hard-predictions (0 or 1) \n",
    "            or probabilities (0-1)\n",
    "        y_test = list of actual labels, binarized to \n",
    "            1 or 0. \n",
    "\n",
    "    Example for generating 'l_sorted_true':\n",
    "        Before sort:\n",
    "           pred: 0 1 1 0 1 0 1 0 1 1 1 0 1 0\n",
    "           true: 0 1 0 0 1 0 0 1 1 0 1 0 1 1\n",
    "        After sort:\n",
    "           pred: 1 1 1 1 1 1 1 1 0 0 0 0 0 0 \n",
    "        -> true: 1 1 0 1 0 0 1 1 0 0 1 1 0 0\n",
    "\n",
    "    Output:\n",
    "        l_sorted_true = list of true label sorted on the \n",
    "            predictions label:\n",
    "    \"\"\"\n",
    "    d_perf_dt = {}\n",
    "    count = 0\n",
    "    for i in range(0,len(y_test)):\n",
    "        d_perf_dt[count] = [b_pred[count], y_test[count]]\n",
    "        count += 1\n",
    "    orderedDict = collections.OrderedDict(sorted(d_perf_dt.items(), key=lambda k: functi(k), reverse=True))\n",
    "    l_sorted_pred= []\n",
    "    l_sorted_true = []\n",
    "    for x in orderedDict.items():\n",
    "        l_sorted_pred.append(x[1][0])\n",
    "        l_sorted_true.append(x[1][1])\n",
    "    return l_sorted_true, l_sorted_pred\n",
    "    \n",
    "def functi(value):\n",
    "    return value[1][0]\n",
    "\n",
    "def score_binary(l_true, l_pred):\n",
    "    \"\"\"\n",
    "    Calculates the dummy true en false positive rate for \n",
    "    a classifier that doesn't calculate probabilities \n",
    "\n",
    "    Input:\n",
    "        l_true = list of true label sorted on the \n",
    "            predictions label.\n",
    "            The function sortedPredictionList can\n",
    "            be used to generate such a list!\n",
    "    Output:\n",
    "        TPR = list with true positive rates \n",
    "        FPR = list with false positive rates \n",
    "        PRC = list with precision (PPV)\n",
    "    \"\"\"\n",
    "    dummi = l_true\n",
    "    dummi = [2 if x==0 else x for x in dummi]\n",
    "    dummi = [x -1 for x in dummi]\n",
    "    l_pred.insert(0,0)\n",
    "    l_true.insert(0,0)\n",
    "    dummi.insert(0,0)\n",
    "    # Compute basic statistics:\n",
    "    TP = pd.Series(l_true).cumsum()\n",
    "    FP = pd.Series(dummi).cumsum()\n",
    "    P = sum(l_true)\n",
    "    N = sum(dummi)\n",
    "    TPR = TP.divide(P) # sensitivity / hit rate / recall\n",
    "    FPR = FP.divide(N)  # fall-out\n",
    "    PRC = TP.divide(TP + FP) # precision\n",
    "    #d_conf = {}\n",
    "    d_conf = {'tpr': TPR, 'fpr': FPR, 'prc': PRC, 'threshold': l_pred}\n",
    "    return d_conf "
   ]
  },
  {
   "cell_type": "markdown",
   "metadata": {},
   "source": [
    "### 5.2 Apply K-fold cross-validation"
   ]
  },
  {
   "cell_type": "code",
   "execution_count": 20,
   "metadata": {},
   "outputs": [
    {
     "name": "stdout",
     "output_type": "stream",
     "text": [
      "N1_MultinomialNB() 0.5585042037137845 (std : +/-0.02 )\n",
      "N1_BernoulliNB() 0.716485211395391 (std : +/-0.02 )\n",
      "N1_PassiveAggressiveClassifier() 0.6864543639992743 (std : +/-0.02 )\n"
     ]
    },
    {
     "name": "stderr",
     "output_type": "stream",
     "text": [
      "C:\\Users\\levrex\\Anaconda3\\lib\\site-packages\\sklearn\\svm\\base.py:929: ConvergenceWarning: Liblinear failed to converge, increase the number of iterations.\n",
      "  \"the number of iterations.\", ConvergenceWarning)\n",
      "C:\\Users\\levrex\\Anaconda3\\lib\\site-packages\\sklearn\\svm\\base.py:929: ConvergenceWarning: Liblinear failed to converge, increase the number of iterations.\n",
      "  \"the number of iterations.\", ConvergenceWarning)\n",
      "C:\\Users\\levrex\\Anaconda3\\lib\\site-packages\\sklearn\\svm\\base.py:929: ConvergenceWarning: Liblinear failed to converge, increase the number of iterations.\n",
      "  \"the number of iterations.\", ConvergenceWarning)\n",
      "C:\\Users\\levrex\\Anaconda3\\lib\\site-packages\\sklearn\\svm\\base.py:929: ConvergenceWarning: Liblinear failed to converge, increase the number of iterations.\n",
      "  \"the number of iterations.\", ConvergenceWarning)\n",
      "C:\\Users\\levrex\\Anaconda3\\lib\\site-packages\\sklearn\\svm\\base.py:929: ConvergenceWarning: Liblinear failed to converge, increase the number of iterations.\n",
      "  \"the number of iterations.\", ConvergenceWarning)\n",
      "C:\\Users\\levrex\\Anaconda3\\lib\\site-packages\\sklearn\\svm\\base.py:929: ConvergenceWarning: Liblinear failed to converge, increase the number of iterations.\n",
      "  \"the number of iterations.\", ConvergenceWarning)\n",
      "C:\\Users\\levrex\\Anaconda3\\lib\\site-packages\\sklearn\\svm\\base.py:929: ConvergenceWarning: Liblinear failed to converge, increase the number of iterations.\n",
      "  \"the number of iterations.\", ConvergenceWarning)\n",
      "C:\\Users\\levrex\\Anaconda3\\lib\\site-packages\\sklearn\\svm\\base.py:929: ConvergenceWarning: Liblinear failed to converge, increase the number of iterations.\n",
      "  \"the number of iterations.\", ConvergenceWarning)\n"
     ]
    },
    {
     "name": "stdout",
     "output_type": "stream",
     "text": [
      "N1_LinearSVC() 0.6654841831488538 (std : +/-0.02 )\n"
     ]
    },
    {
     "name": "stderr",
     "output_type": "stream",
     "text": [
      "C:\\Users\\levrex\\Anaconda3\\lib\\site-packages\\sklearn\\linear_model\\logistic.py:947: ConvergenceWarning: lbfgs failed to converge. Increase the number of iterations.\n",
      "  \"of iterations.\", ConvergenceWarning)\n",
      "C:\\Users\\levrex\\Anaconda3\\lib\\site-packages\\sklearn\\linear_model\\logistic.py:947: ConvergenceWarning: lbfgs failed to converge. Increase the number of iterations.\n",
      "  \"of iterations.\", ConvergenceWarning)\n",
      "C:\\Users\\levrex\\Anaconda3\\lib\\site-packages\\sklearn\\linear_model\\logistic.py:947: ConvergenceWarning: lbfgs failed to converge. Increase the number of iterations.\n",
      "  \"of iterations.\", ConvergenceWarning)\n",
      "C:\\Users\\levrex\\Anaconda3\\lib\\site-packages\\sklearn\\linear_model\\logistic.py:947: ConvergenceWarning: lbfgs failed to converge. Increase the number of iterations.\n",
      "  \"of iterations.\", ConvergenceWarning)\n",
      "C:\\Users\\levrex\\Anaconda3\\lib\\site-packages\\sklearn\\linear_model\\logistic.py:947: ConvergenceWarning: lbfgs failed to converge. Increase the number of iterations.\n",
      "  \"of iterations.\", ConvergenceWarning)\n",
      "C:\\Users\\levrex\\Anaconda3\\lib\\site-packages\\sklearn\\linear_model\\logistic.py:947: ConvergenceWarning: lbfgs failed to converge. Increase the number of iterations.\n",
      "  \"of iterations.\", ConvergenceWarning)\n",
      "C:\\Users\\levrex\\Anaconda3\\lib\\site-packages\\sklearn\\linear_model\\logistic.py:947: ConvergenceWarning: lbfgs failed to converge. Increase the number of iterations.\n",
      "  \"of iterations.\", ConvergenceWarning)\n",
      "C:\\Users\\levrex\\Anaconda3\\lib\\site-packages\\sklearn\\linear_model\\logistic.py:947: ConvergenceWarning: lbfgs failed to converge. Increase the number of iterations.\n",
      "  \"of iterations.\", ConvergenceWarning)\n",
      "C:\\Users\\levrex\\Anaconda3\\lib\\site-packages\\sklearn\\linear_model\\logistic.py:947: ConvergenceWarning: lbfgs failed to converge. Increase the number of iterations.\n",
      "  \"of iterations.\", ConvergenceWarning)\n",
      "C:\\Users\\levrex\\Anaconda3\\lib\\site-packages\\sklearn\\linear_model\\logistic.py:947: ConvergenceWarning: lbfgs failed to converge. Increase the number of iterations.\n",
      "  \"of iterations.\", ConvergenceWarning)\n"
     ]
    },
    {
     "name": "stdout",
     "output_type": "stream",
     "text": [
      "N1_LogisticRegression() 0.6855894272061938 (std : +/-0.02 )\n",
      "N1_SGDClassifier() 0.6763231113530516 (std : +/-0.02 )\n",
      "N2_MultinomialNB() 0.49720861307687647 (std : +/-0.02 )\n",
      "N2_BernoulliNB() 0.5190165124296862 (std : +/-0.02 )\n",
      "N2_PassiveAggressiveClassifier() 0.7253069618339079 (std : +/-0.02 )\n",
      "N2_LinearSVC() 0.7133823262565777 (std : +/-0.02 )\n"
     ]
    },
    {
     "name": "stderr",
     "output_type": "stream",
     "text": [
      "C:\\Users\\levrex\\Anaconda3\\lib\\site-packages\\sklearn\\linear_model\\logistic.py:947: ConvergenceWarning: lbfgs failed to converge. Increase the number of iterations.\n",
      "  \"of iterations.\", ConvergenceWarning)\n",
      "C:\\Users\\levrex\\Anaconda3\\lib\\site-packages\\sklearn\\linear_model\\logistic.py:947: ConvergenceWarning: lbfgs failed to converge. Increase the number of iterations.\n",
      "  \"of iterations.\", ConvergenceWarning)\n",
      "C:\\Users\\levrex\\Anaconda3\\lib\\site-packages\\sklearn\\linear_model\\logistic.py:947: ConvergenceWarning: lbfgs failed to converge. Increase the number of iterations.\n",
      "  \"of iterations.\", ConvergenceWarning)\n",
      "C:\\Users\\levrex\\Anaconda3\\lib\\site-packages\\sklearn\\linear_model\\logistic.py:947: ConvergenceWarning: lbfgs failed to converge. Increase the number of iterations.\n",
      "  \"of iterations.\", ConvergenceWarning)\n",
      "C:\\Users\\levrex\\Anaconda3\\lib\\site-packages\\sklearn\\linear_model\\logistic.py:947: ConvergenceWarning: lbfgs failed to converge. Increase the number of iterations.\n",
      "  \"of iterations.\", ConvergenceWarning)\n",
      "C:\\Users\\levrex\\Anaconda3\\lib\\site-packages\\sklearn\\linear_model\\logistic.py:947: ConvergenceWarning: lbfgs failed to converge. Increase the number of iterations.\n",
      "  \"of iterations.\", ConvergenceWarning)\n",
      "C:\\Users\\levrex\\Anaconda3\\lib\\site-packages\\sklearn\\linear_model\\logistic.py:947: ConvergenceWarning: lbfgs failed to converge. Increase the number of iterations.\n",
      "  \"of iterations.\", ConvergenceWarning)\n",
      "C:\\Users\\levrex\\Anaconda3\\lib\\site-packages\\sklearn\\linear_model\\logistic.py:947: ConvergenceWarning: lbfgs failed to converge. Increase the number of iterations.\n",
      "  \"of iterations.\", ConvergenceWarning)\n",
      "C:\\Users\\levrex\\Anaconda3\\lib\\site-packages\\sklearn\\linear_model\\logistic.py:947: ConvergenceWarning: lbfgs failed to converge. Increase the number of iterations.\n",
      "  \"of iterations.\", ConvergenceWarning)\n",
      "C:\\Users\\levrex\\Anaconda3\\lib\\site-packages\\sklearn\\linear_model\\logistic.py:947: ConvergenceWarning: lbfgs failed to converge. Increase the number of iterations.\n",
      "  \"of iterations.\", ConvergenceWarning)\n"
     ]
    },
    {
     "name": "stdout",
     "output_type": "stream",
     "text": [
      "N2_LogisticRegression() 0.7231930079235468 (std : +/-0.02 )\n",
      "N2_SGDClassifier() 0.7124175890642956 (std : +/-0.02 )\n",
      "N3_MultinomialNB() 0.49195245871892573 (std : +/-0.02 )\n"
     ]
    },
    {
     "name": "stderr",
     "output_type": "stream",
     "text": [
      "C:\\Users\\levrex\\Anaconda3\\lib\\site-packages\\sklearn\\metrics\\classification.py:1437: UndefinedMetricWarning: F-score is ill-defined and being set to 0.0 due to no predicted samples.\n",
      "  'precision', 'predicted', average, warn_for)\n",
      "C:\\Users\\levrex\\Anaconda3\\lib\\site-packages\\sklearn\\metrics\\classification.py:1437: UndefinedMetricWarning: F-score is ill-defined and being set to 0.0 due to no predicted samples.\n",
      "  'precision', 'predicted', average, warn_for)\n",
      "C:\\Users\\levrex\\Anaconda3\\lib\\site-packages\\sklearn\\metrics\\classification.py:1437: UndefinedMetricWarning: F-score is ill-defined and being set to 0.0 due to no predicted samples.\n",
      "  'precision', 'predicted', average, warn_for)\n"
     ]
    },
    {
     "name": "stdout",
     "output_type": "stream",
     "text": [
      "N3_BernoulliNB() 0.48657533418012455 (std : +/-0.02 )\n",
      "N3_PassiveAggressiveClassifier() 0.7398506018266499 (std : +/-0.02 )\n",
      "N3_LinearSVC() 0.7305691647009012 (std : +/-0.02 )\n"
     ]
    },
    {
     "name": "stderr",
     "output_type": "stream",
     "text": [
      "C:\\Users\\levrex\\Anaconda3\\lib\\site-packages\\sklearn\\linear_model\\logistic.py:947: ConvergenceWarning: lbfgs failed to converge. Increase the number of iterations.\n",
      "  \"of iterations.\", ConvergenceWarning)\n",
      "C:\\Users\\levrex\\Anaconda3\\lib\\site-packages\\sklearn\\linear_model\\logistic.py:947: ConvergenceWarning: lbfgs failed to converge. Increase the number of iterations.\n",
      "  \"of iterations.\", ConvergenceWarning)\n",
      "C:\\Users\\levrex\\Anaconda3\\lib\\site-packages\\sklearn\\linear_model\\logistic.py:947: ConvergenceWarning: lbfgs failed to converge. Increase the number of iterations.\n",
      "  \"of iterations.\", ConvergenceWarning)\n",
      "C:\\Users\\levrex\\Anaconda3\\lib\\site-packages\\sklearn\\linear_model\\logistic.py:947: ConvergenceWarning: lbfgs failed to converge. Increase the number of iterations.\n",
      "  \"of iterations.\", ConvergenceWarning)\n",
      "C:\\Users\\levrex\\Anaconda3\\lib\\site-packages\\sklearn\\linear_model\\logistic.py:947: ConvergenceWarning: lbfgs failed to converge. Increase the number of iterations.\n",
      "  \"of iterations.\", ConvergenceWarning)\n",
      "C:\\Users\\levrex\\Anaconda3\\lib\\site-packages\\sklearn\\linear_model\\logistic.py:947: ConvergenceWarning: lbfgs failed to converge. Increase the number of iterations.\n",
      "  \"of iterations.\", ConvergenceWarning)\n",
      "C:\\Users\\levrex\\Anaconda3\\lib\\site-packages\\sklearn\\linear_model\\logistic.py:947: ConvergenceWarning: lbfgs failed to converge. Increase the number of iterations.\n",
      "  \"of iterations.\", ConvergenceWarning)\n",
      "C:\\Users\\levrex\\Anaconda3\\lib\\site-packages\\sklearn\\linear_model\\logistic.py:947: ConvergenceWarning: lbfgs failed to converge. Increase the number of iterations.\n",
      "  \"of iterations.\", ConvergenceWarning)\n",
      "C:\\Users\\levrex\\Anaconda3\\lib\\site-packages\\sklearn\\linear_model\\logistic.py:947: ConvergenceWarning: lbfgs failed to converge. Increase the number of iterations.\n",
      "  \"of iterations.\", ConvergenceWarning)\n",
      "C:\\Users\\levrex\\Anaconda3\\lib\\site-packages\\sklearn\\linear_model\\logistic.py:947: ConvergenceWarning: lbfgs failed to converge. Increase the number of iterations.\n",
      "  \"of iterations.\", ConvergenceWarning)\n"
     ]
    },
    {
     "name": "stdout",
     "output_type": "stream",
     "text": [
      "N3_LogisticRegression() 0.7401530272787759 (std : +/-0.02 )\n",
      "N3_SGDClassifier() 0.7304330732474446 (std : +/-0.02 )\n"
     ]
    },
    {
     "ename": "PermissionError",
     "evalue": "[Errno 13] Permission denied: 'performance/cv_3clfs.csv'",
     "output_type": "error",
     "traceback": [
      "\u001b[1;31m---------------------------------------------------------------------------\u001b[0m",
      "\u001b[1;31mPermissionError\u001b[0m                           Traceback (most recent call last)",
      "\u001b[1;32m<ipython-input-20-5c5f084b9e6e>\u001b[0m in \u001b[0;36m<module>\u001b[1;34m\u001b[0m\n\u001b[0;32m    121\u001b[0m     \u001b[0mgr\u001b[0m \u001b[1;33m=\u001b[0m \u001b[0mstr\u001b[0m\u001b[1;33m(\u001b[0m\u001b[0mgram\u001b[0m\u001b[1;33m)\u001b[0m\u001b[1;33m\u001b[0m\u001b[1;33m\u001b[0m\u001b[0m\n\u001b[0;32m    122\u001b[0m     \u001b[0mfname\u001b[0m \u001b[1;33m=\u001b[0m \u001b[1;34m\"performance/cv_\"\u001b[0m\u001b[1;33m+\u001b[0m\u001b[0mgr\u001b[0m\u001b[1;33m+\u001b[0m\u001b[1;34m\"clfs.csv\"\u001b[0m\u001b[1;33m\u001b[0m\u001b[1;33m\u001b[0m\u001b[0m\n\u001b[1;32m--> 123\u001b[1;33m     \u001b[0md\u001b[0m\u001b[1;33m.\u001b[0m\u001b[0mto_csv\u001b[0m\u001b[1;33m(\u001b[0m\u001b[0mfname\u001b[0m\u001b[1;33m)\u001b[0m\u001b[1;33m\u001b[0m\u001b[1;33m\u001b[0m\u001b[0m\n\u001b[0m",
      "\u001b[1;32m~\\Anaconda3\\lib\\site-packages\\pandas\\core\\generic.py\u001b[0m in \u001b[0;36mto_csv\u001b[1;34m(self, path_or_buf, sep, na_rep, float_format, columns, header, index, index_label, mode, encoding, compression, quoting, quotechar, line_terminator, chunksize, tupleize_cols, date_format, doublequote, escapechar, decimal)\u001b[0m\n\u001b[0;32m   3018\u001b[0m                                  \u001b[0mdoublequote\u001b[0m\u001b[1;33m=\u001b[0m\u001b[0mdoublequote\u001b[0m\u001b[1;33m,\u001b[0m\u001b[1;33m\u001b[0m\u001b[1;33m\u001b[0m\u001b[0m\n\u001b[0;32m   3019\u001b[0m                                  escapechar=escapechar, decimal=decimal)\n\u001b[1;32m-> 3020\u001b[1;33m         \u001b[0mformatter\u001b[0m\u001b[1;33m.\u001b[0m\u001b[0msave\u001b[0m\u001b[1;33m(\u001b[0m\u001b[1;33m)\u001b[0m\u001b[1;33m\u001b[0m\u001b[1;33m\u001b[0m\u001b[0m\n\u001b[0m\u001b[0;32m   3021\u001b[0m \u001b[1;33m\u001b[0m\u001b[0m\n\u001b[0;32m   3022\u001b[0m         \u001b[1;32mif\u001b[0m \u001b[0mpath_or_buf\u001b[0m \u001b[1;32mis\u001b[0m \u001b[1;32mNone\u001b[0m\u001b[1;33m:\u001b[0m\u001b[1;33m\u001b[0m\u001b[1;33m\u001b[0m\u001b[0m\n",
      "\u001b[1;32m~\\Anaconda3\\lib\\site-packages\\pandas\\io\\formats\\csvs.py\u001b[0m in \u001b[0;36msave\u001b[1;34m(self)\u001b[0m\n\u001b[0;32m    155\u001b[0m             f, handles = _get_handle(self.path_or_buf, self.mode,\n\u001b[0;32m    156\u001b[0m                                      \u001b[0mencoding\u001b[0m\u001b[1;33m=\u001b[0m\u001b[0mself\u001b[0m\u001b[1;33m.\u001b[0m\u001b[0mencoding\u001b[0m\u001b[1;33m,\u001b[0m\u001b[1;33m\u001b[0m\u001b[1;33m\u001b[0m\u001b[0m\n\u001b[1;32m--> 157\u001b[1;33m                                      compression=self.compression)\n\u001b[0m\u001b[0;32m    158\u001b[0m             \u001b[0mclose\u001b[0m \u001b[1;33m=\u001b[0m \u001b[1;32mTrue\u001b[0m\u001b[1;33m\u001b[0m\u001b[1;33m\u001b[0m\u001b[0m\n\u001b[0;32m    159\u001b[0m \u001b[1;33m\u001b[0m\u001b[0m\n",
      "\u001b[1;32m~\\Anaconda3\\lib\\site-packages\\pandas\\io\\common.py\u001b[0m in \u001b[0;36m_get_handle\u001b[1;34m(path_or_buf, mode, encoding, compression, memory_map, is_text)\u001b[0m\n\u001b[0;32m    422\u001b[0m         \u001b[1;32melif\u001b[0m \u001b[0mencoding\u001b[0m\u001b[1;33m:\u001b[0m\u001b[1;33m\u001b[0m\u001b[1;33m\u001b[0m\u001b[0m\n\u001b[0;32m    423\u001b[0m             \u001b[1;31m# Python 3 and encoding\u001b[0m\u001b[1;33m\u001b[0m\u001b[1;33m\u001b[0m\u001b[1;33m\u001b[0m\u001b[0m\n\u001b[1;32m--> 424\u001b[1;33m             \u001b[0mf\u001b[0m \u001b[1;33m=\u001b[0m \u001b[0mopen\u001b[0m\u001b[1;33m(\u001b[0m\u001b[0mpath_or_buf\u001b[0m\u001b[1;33m,\u001b[0m \u001b[0mmode\u001b[0m\u001b[1;33m,\u001b[0m \u001b[0mencoding\u001b[0m\u001b[1;33m=\u001b[0m\u001b[0mencoding\u001b[0m\u001b[1;33m,\u001b[0m \u001b[0mnewline\u001b[0m\u001b[1;33m=\u001b[0m\u001b[1;34m\"\"\u001b[0m\u001b[1;33m)\u001b[0m\u001b[1;33m\u001b[0m\u001b[1;33m\u001b[0m\u001b[0m\n\u001b[0m\u001b[0;32m    425\u001b[0m         \u001b[1;32melif\u001b[0m \u001b[0mis_text\u001b[0m\u001b[1;33m:\u001b[0m\u001b[1;33m\u001b[0m\u001b[1;33m\u001b[0m\u001b[0m\n\u001b[0;32m    426\u001b[0m             \u001b[1;31m# Python 3 and no explicit encoding\u001b[0m\u001b[1;33m\u001b[0m\u001b[1;33m\u001b[0m\u001b[1;33m\u001b[0m\u001b[0m\n",
      "\u001b[1;31mPermissionError\u001b[0m: [Errno 13] Permission denied: 'performance/cv_3clfs.csv'"
     ]
    }
   ],
   "source": [
    "from sklearn.model_selection import cross_validate,KFold, StratifiedKFold\n",
    "from sklearn.ensemble import AdaBoostClassifier\n",
    "from sklearn.naive_bayes import MultinomialNB, BernoulliNB\n",
    "from sklearn.linear_model import PassiveAggressiveClassifier\n",
    "from sklearn.svm import LinearSVC\n",
    "from sklearn.linear_model import SGDClassifier\n",
    "from sklearn.linear_model import LogisticRegression\n",
    "from sklearn.pipeline import Pipeline\n",
    "from sklearn.feature_extraction.text import CountVectorizer\n",
    "from sklearn.metrics import confusion_matrix\n",
    "from sklearn.metrics import accuracy_score,precision_score,recall_score\n",
    "from sklearn.model_selection import cross_validate,KFold\n",
    "from sklearn.metrics import f1_score\n",
    "from sklearn.model_selection import GridSearchCV\n",
    "import datetime\n",
    "import time\n",
    "import pandas as pd\n",
    "import random\n",
    "import pickle\n",
    "\n",
    "classifiers = [MultinomialNB(), BernoulliNB(), PassiveAggressiveClassifier(), LinearSVC(), LogisticRegression(solver='lbfgs'),SGDClassifier()]\n",
    "clf_names = ['MultinomialNB()', 'BernoulliNB()', 'PassiveAggressiveClassifier()', 'LinearSVC()', 'LogisticRegression()', 'SGDClassifier()']\n",
    "\n",
    "def assess_performance(X, y, clf, name, label, gram, color):\n",
    "    tprs, aucs = [], []\n",
    "    f1_list = []\n",
    "    fpr_scale = np.linspace(0, 1, 100)\n",
    "    avg_auc, acc, avg_auc_train, acc_train, avg_f1_score = 0, 0, 0, 0, 0\n",
    "    \n",
    "    before = datetime.datetime.now()\n",
    "    before = before.strftime(\"%H:%M:%S\")\n",
    "    start = time.time()\n",
    "    kfold = StratifiedKFold(n_splits=10,shuffle=True,random_state=SEED)\n",
    "    cv = TfidfVectorizer(ngram_range=(1,gram))\n",
    "    # Parameters of pipelines can be set using ‘__’ separated parameter names:\n",
    "    if name in ['PassiveAggressiveClassifier()', 'LinearSVC()', 'LogisticRegression()', 'SGDClassifier()']:\n",
    "        if name in ['PassiveAggressiveClassifier()', 'LinearSVC()', 'LogisticRegression()']:\n",
    "            param_grid = {\n",
    "                'C': np.arange(0.01,100,10),\n",
    "            }\n",
    "        elif name == 'SGDClassifier()':\n",
    "            param_grid = {\n",
    "                'alpha' : 10.0**-np.arange(1,7),\n",
    "            }\n",
    "        clf = GridSearchCV(clf, param_grid, n_jobs=-1)\n",
    "    classifier = Pipeline([('vect', cv),('clf', clf)])\n",
    "    for i, (train, test) in enumerate(kfold.split(X, y)):\n",
    "        classifier.fit(X.iloc[train].values.astype('U'), y.iloc[train].values.astype('U'))\n",
    "        #if name in ['PassiveAggressiveClassifier()', 'LinearSVC()', 'LogisticRegression()', 'SGDClassifier()']:\n",
    "        #    print(\"Best parameter (CV score=%0.3f):\" % classifier['clf'].best_score_)\n",
    "        #    print(classifier['clf'].best_params_)\n",
    "        y_pred = classifier.predict(X.iloc[test].values.astype('U'))\n",
    "        y_pred = np.array([1 if i == 'True' else 0 for i in y_pred])\n",
    "        \n",
    "        y_pred_train = classifier.predict(X.iloc[train].values.astype('U'))\n",
    "        y_pred_train = np.array([1 if i == 'True' else 0 for i in y_pred_train])\n",
    "        \n",
    "        # Performance Test\n",
    "        l_sorted_true, l_sorted_pred = sortedPredictionList(y_pred, [1 if i == 'True' else 0 for i in y.iloc[test].values.astype('U')])\n",
    "        d_conf = score_binary(l_sorted_true, l_sorted_pred)\n",
    "        tpr, fpr = d_conf['tpr'], d_conf['fpr']\n",
    "        #print(fpr[:10])\n",
    "        tprs.append(np.interp(fpr_scale, fpr, tpr))\n",
    "        tprs[-1][0] = 0.0\n",
    "        roc_auc = calculateAUC(fpr, tpr)\n",
    "        aucs.append(roc_auc)\n",
    "        avg_auc += roc_auc\n",
    "        acc += accuracy_score(y_pred, np.array([1 if i == 'True' else 0 for i in y.iloc[test].values.astype('U')]))\n",
    "        f1 = f1_score([1 if i == 'True' else 0 for i in y.iloc[test].values.astype('U')], y_pred)\n",
    "        f1_list.append(f1)\n",
    "        avg_f1_score += f1\n",
    "        \n",
    "        # Performance Train\n",
    "        fpr, tpr, thresholds = roc_curve(np.array([1 if i == 'True' else 0 for i in y.iloc[train].values.astype('U')]), y_pred_train)\n",
    "        avg_auc_train += auc(fpr, tpr)\n",
    "        acc_train += accuracy_score(y_pred_train, np.array([1 if i == 'True' else 0 for i in y.iloc[train].values.astype('U')]))\n",
    "    if gram == 3:  # dont save all models\n",
    "        pickle.dump(classifier, open('models' + '/'+ name + '/' + str(i) +  label + '.sav', 'wb'))\n",
    "        \n",
    "    plt = plotSTD(tprs, aucs, color, label)\n",
    "    after = datetime.datetime.now()\n",
    "    after = after.strftime(\"%H:%M:%S\")\n",
    "    end = time.time()\n",
    "    hours = int(after[0:2])-int(before[0:2])\n",
    "    mins = int(after[3:5])-int(before[3:5])\n",
    "    secs = int(after[6:8])-int(before[6:8])\n",
    "    time_taken = str(hours)+\":\"+str(mins)+\":\"+str(secs)\n",
    "    return [label,acc_train/10, acc/10, avg_auc_train/10, avg_auc/10, avg_f1_score/10, end-start], f1_list, plt\n",
    "\n",
    "d_f1_measures = {}\n",
    "d_models = {}\n",
    "for gram in range(1,4):\n",
    "    i=0\n",
    "    data=[]\n",
    "    colors=['r', 'y', 'c', 'b', 'g', 'magenta', 'indigo', 'black', 'orange', 'navy', 'springgreen', 'thistle',  'darkkhaki'] \n",
    "    plt.figure(figsize=(10,10))\n",
    "    for clf in classifiers:\n",
    "        label = 'N'+str(gram)+'_'+clf_names[i]\n",
    "        results_perf, d_f1_measures[label], plt = assess_performance(df_train['X'], df_train['label'], clf, clf_names[i], label, gram, colors[i])\n",
    "        data.append(results_perf)\n",
    "        i += 1 \n",
    "    plt.legend()\n",
    "    plt.savefig(\"performance/ROC/Ngram_\"+str(gram)+\"_ROC.png\")\n",
    "    plt.close()\n",
    "    d = pd.DataFrame(data,columns=['Classifier', 'Accuracy_train','Accuracy_test', 'AUC_train', 'AUC_test', 'F1_score', 'Time taken']) # to add train score / test score\n",
    "    d['Ac_rank'] = d['Accuracy_test'].rank(ascending=False)\n",
    "    d['Time_rank'] = d['Time taken'].rank(ascending=False)\n",
    "    d['C-rank'] = d['Ac_rank'] + d['Time_rank']\n",
    "    d['C-rank'] = d['C-rank'].rank(ascending=False)\n",
    "    i+=1\n",
    "    #print(d)\n",
    "    gr = str(gram)\n",
    "    fname = \"performance/cv_\"+gr+\"clfs.csv\"\n",
    "    d.to_csv(fname)"
   ]
  },
  {
   "cell_type": "markdown",
   "metadata": {},
   "source": [
    "### 5.3 Calculate significance"
   ]
  },
  {
   "cell_type": "code",
   "execution_count": 24,
   "metadata": {
    "scrolled": true
   },
   "outputs": [
    {
     "name": "stdout",
     "output_type": "stream",
     "text": [
      "N1_MultinomialNB() (p = 3.773616738125267e-17 )\n",
      "N1_BernoulliNB() (p = 1.0 )\n",
      "N1_PassiveAggressiveClassifier() (p = 0.00067866948354991 )\n",
      "N1_LinearSVC() (p = 9.947642268530334e-08 )\n",
      "N1_LogisticRegression() (p = 0.0007747069633493443 )\n",
      "N1_SGDClassifier() (p = 1.2817783692080866e-05 )\n",
      "N2_MultinomialNB() (p = 4.176708545382203e-23 )\n",
      "N2_BernoulliNB() (p = 2.2138277814794413e-21 )\n",
      "N2_PassiveAggressiveClassifier() (p = 0.3519331141071623 )\n",
      "N2_LinearSVC() (p = 0.7045799658635117 )\n",
      "N2_LogisticRegression() (p = 0.2350554996728409 )\n",
      "N2_SGDClassifier() (p = 0.98774169862739 )\n",
      "N3_MultinomialNB() (p = 3.3107421812991925e-25 )\n",
      "N3_BernoulliNB() (p = 3.1137242783526784e-26 )\n",
      "N3_PassiveAggressiveClassifier() (p = 0.028191186870532577 )\n",
      "N3_LinearSVC() (p = 0.10119020025155842 )\n",
      "N3_LogisticRegression() (p = 0.010667403888775935 )\n",
      "N3_SGDClassifier() (p = 0.0375593125048135 )\n"
     ]
    }
   ],
   "source": [
    "import scipy\n",
    "\n",
    "auc_ref = d_f1_measures['N1_BernoulliNB()']\n",
    "\n",
    "for key in d_f1_measures.keys(): # classifiers with probabilities\n",
    "    twosample_results = scipy.stats.ttest_ind(d_f1_measures[key], auc_ref)\n",
    "    print(key, '(p =', str(twosample_results[1]), ')')"
   ]
  },
  {
   "cell_type": "markdown",
   "metadata": {},
   "source": [
    "### 5.4 Plot F1-measures"
   ]
  },
  {
   "cell_type": "code",
   "execution_count": 47,
   "metadata": {
    "scrolled": true
   },
   "outputs": [
    {
     "name": "stdout",
     "output_type": "stream",
     "text": [
      "6\n"
     ]
    },
    {
     "data": {
      "text/plain": [
       "<Figure size 1008x1008 with 0 Axes>"
      ]
     },
     "metadata": {},
     "output_type": "display_data"
    },
    {
     "data": {
      "image/png": "[encoded data removed]",
      "text/plain": [
       "<Figure size 432x288 with 1 Axes>"
      ]
     },
     "metadata": {
      "needs_background": "light"
     },
     "output_type": "display_data"
    }
   ],
   "source": [
    "lbls = ['MNB', 'BNB', 'PAC', 'LSVC', 'LogC', 'SGD']\n",
    "print(len(lbls))\n",
    "x_pos = np.arange(len(d_f1_measures.keys()))[len(lbls):len(lbls)+len(lbls)]\n",
    "l_mean = [] \n",
    "l_std = []\n",
    "for key in list(d_f1_measures.keys())[len(lbls):len(lbls)+len(lbls)]:\n",
    "    val = np.array(d_f1_measures[key])\n",
    "    l_mean.append(np.mean(val))\n",
    "    l_std.append(np.std(val))\n",
    "\n",
    "# Build the plot\n",
    "plt.figure(figsize=(14,14))\n",
    "fig, ax = plt.subplots()\n",
    "ax.bar(x_pos, l_mean, yerr=l_std, align='center', alpha=0.5, ecolor='black', capsize=10)\n",
    "ax.set_ylabel('F1-score +/- std')\n",
    "ax.set_xticks(x_pos)\n",
    "ax.tick_params(axis='both', which='major', labelsize=9)\n",
    "ax.set_xticklabels(lbls, rotation=45)\n",
    "ax.set_title('Barplot with F1-score for the different classifiers with N-gram=1')\n",
    "ax.yaxis.grid(True)\n",
    "\n",
    "# Save the figure and show\n",
    "plt.tight_layout()\n",
    "plt.savefig('performance/N2_bar_plot_f1.png')\n",
    "plt.show()"
   ]
  },
  {
   "cell_type": "markdown",
   "metadata": {},
   "source": [
    "## 6 Validation"
   ]
  },
  {
   "cell_type": "code",
   "execution_count": 28,
   "metadata": {},
   "outputs": [
    {
     "data": {
      "text/html": [
       "<div>\n",
       "<style scoped>\n",
       "    .dataframe tbody tr th:only-of-type {\n",
       "        vertical-align: middle;\n",
       "    }\n",
       "\n",
       "    .dataframe tbody tr th {\n",
       "        vertical-align: top;\n",
       "    }\n",
       "\n",
       "    .dataframe thead th {\n",
       "        text-align: right;\n",
       "    }\n",
       "</style>\n",
       "<table border=\"1\" class=\"dataframe\">\n",
       "  <thead>\n",
       "    <tr style=\"text-align: right;\">\n",
       "      <th></th>\n",
       "      <th>X</th>\n",
       "      <th>y</th>\n",
       "      <th>label</th>\n",
       "      <th>prediction</th>\n",
       "    </tr>\n",
       "  </thead>\n",
       "  <tbody>\n",
       "    <tr>\n",
       "      <th>3993</th>\n",
       "      <td>meet press chucktodd tomorrow morning enjoy</td>\n",
       "      <td>943</td>\n",
       "      <td>False</td>\n",
       "      <td>False</td>\n",
       "    </tr>\n",
       "    <tr>\n",
       "      <th>2258</th>\n",
       "      <td>samijs hahahahahahaha love makeamericagreataga...</td>\n",
       "      <td>1688</td>\n",
       "      <td>False</td>\n",
       "      <td>False</td>\n",
       "    </tr>\n",
       "    <tr>\n",
       "      <th>10188</th>\n",
       "      <td>whitehouse briefing director marc short direct...</td>\n",
       "      <td>7095</td>\n",
       "      <td>False</td>\n",
       "      <td>False</td>\n",
       "    </tr>\n",
       "    <tr>\n",
       "      <th>13241</th>\n",
       "      <td>last year wa best year american manufacturing ...</td>\n",
       "      <td>24238</td>\n",
       "      <td>True</td>\n",
       "      <td>True</td>\n",
       "    </tr>\n",
       "    <tr>\n",
       "      <th>15752</th>\n",
       "      <td>“ brazil allow american ethanol enter country ...</td>\n",
       "      <td>13238</td>\n",
       "      <td>False</td>\n",
       "      <td>True</td>\n",
       "    </tr>\n",
       "  </tbody>\n",
       "</table>\n",
       "</div>"
      ],
      "text/plain": [
       "                                                       X      y  label  \\\n",
       "3993         meet press chucktodd tomorrow morning enjoy    943  False   \n",
       "2258   samijs hahahahahahaha love makeamericagreataga...   1688  False   \n",
       "10188  whitehouse briefing director marc short direct...   7095  False   \n",
       "13241  last year wa best year american manufacturing ...  24238   True   \n",
       "15752  “ brazil allow american ethanol enter country ...  13238  False   \n",
       "\n",
       "      prediction  \n",
       "3993       False  \n",
       "2258       False  \n",
       "10188      False  \n",
       "13241       True  \n",
       "15752       True  "
      ]
     },
     "execution_count": 28,
     "metadata": {},
     "output_type": "execute_result"
    }
   ],
   "source": [
    "# apply built model on provided text\n",
    "loaded_model = pickle.load(open('models/PassiveAggressiveClassifier()/9N3_PassiveAggressiveClassifier().sav', 'rb'))\n",
    "pred = loaded_model.predict(df_test['X'])\n",
    "\n",
    "# add predictions to table & save predictions\n",
    "df_test['prediction'] = df_test['label'].copy()\n",
    "df_test['prediction'] = pred\n",
    "df_test.to_csv(r'final/testset_predictions.csv', sep='|', index=False)\n",
    "\n",
    "df_test.head()"
   ]
  },
  {
   "cell_type": "code",
   "execution_count": 46,
   "metadata": {
    "scrolled": true
   },
   "outputs": [
    {
     "name": "stdout",
     "output_type": "stream",
     "text": [
      "Final Test - performance:\n",
      "ROC-AUC: 0.7242669169457076 \n",
      "Accuracy: 0.8081238779174147 \n",
      "F1-score: 0.5968882602545968\n",
      "BernoulliNB() 0.7242996694550625 (std : +/-0.00 )\n",
      "Final Test - performance:\n",
      "ROC-AUC: 0.5594998189247056 \n",
      "Accuracy: 0.7811938958707361 \n",
      "F1-score: 0.2740134028294862\n",
      "MultinomialNB() 0.5594888556497332 (std : +/-0.00 )\n",
      "Final Test - performance:\n",
      "ROC-AUC: 0.7492186030122717 \n",
      "Accuracy: 0.7995960502692998 \n",
      "F1-score: 0.6185390858607434\n",
      "PassiveAggressiveClassifier() 0.7492013369527081 (std : +/-0.00 )\n"
     ]
    }
   ],
   "source": [
    "import matplotlib.pyplot as plt \n",
    "\n",
    "#df_test.head()\n",
    "\n",
    "clf_list = ['models/BernoulliNB()/9N1_BernoulliNB().sav', 'models/MultinomialNB()/9N1_MultinomialNB().sav',  'models/PassiveAggressiveClassifier()/9N3_PassiveAggressiveClassifier().sav']\n",
    "colors=['r', 'y', 'c', 'b', 'g', 'magenta', 'indigo', 'black', 'orange', 'navy', 'springgreen', 'thistle',  'darkkhaki']\n",
    "names = ['BernoulliNB()' , 'MultinomialNB()',  'PassiveAggressiveClassifier()']\n",
    "i = 0\n",
    "plt.figure(figsize=(10,10))\n",
    "plot_type = 'ROC'\n",
    "\n",
    "for clf in clf_list:\n",
    "    tprs, aucs = [], []\n",
    "    f1_list = []\n",
    "    fpr_scale = np.linspace(0, 1, 100)\n",
    "\n",
    "    # apply built model on provided text\n",
    "    loaded_model = pickle.load(open(clf, 'rb'))\n",
    "    pred = loaded_model.predict(df_test['X'])\n",
    "\n",
    "    # add predictions to table & save predictions\n",
    "    df_test['prediction'] = df_test['label'].copy()\n",
    "    df_test['prediction'] = pred\n",
    "    if loaded_model == 'models/PassiveAggressiveClassifier()/9N3_PassiveAggressiveClassifier().sav':\n",
    "        df_test.to_csv(r'final/testset_predictions.csv', sep='|', index=False)\n",
    "\n",
    "    # Performance Test\n",
    "    \n",
    "    l_sorted_true, l_sorted_pred = sortedPredictionList([1 if i == 'True' else 0 for i in df_test['prediction']], [1 if i == 'True' else 0 for i in df_test['label']])\n",
    "    d_conf = score_binary(l_sorted_true, l_sorted_pred)\n",
    "    tpr, fpr = d_conf['tpr'], d_conf['fpr']\n",
    "    #print(fpr[:10])\n",
    "    tprs.append(np.interp(fpr_scale, fpr, tpr))\n",
    "    tprs[-1][0] = 0.0\n",
    "    roc_auc = calculateAUC(fpr, tpr)\n",
    "    acc = accuracy_score([1 if i == 'True' else 0 for i in df_test['prediction']], [1 if i == 'True' else 0 for i in df_test['label']])\n",
    "    f1 = f1_score([1 if i == 'True' else 0 for i in df_test['label']], [1 if i == 'True' else 0 for i in df_test['prediction']])\n",
    "    print('Final Test - performance:')\n",
    "    print('ROC-AUC:',roc_auc, '\\nAccuracy:', acc, '\\nF1-score:', f1)\n",
    "    if plot_type == 'ROC':\n",
    "        plt = plotSTD(tprs, [roc_auc], colors[i], names[i])\n",
    "    elif plot_type == 'Confusion':\n",
    "        plt.figure(figsize=(10,10))\n",
    "        plt = plot_confusion_matrix([1 if i == 'True' else 0 for i in df_test['prediction']], [1 if i == 'True' else 0 for i in df_test['label']], 'Passive Aggressive classifier')\n",
    "        fig = plt.get_figure()    \n",
    "        fig.savefig(\"final/\"+names[i]+\"_conf.png\")\n",
    "        fig.clf()\n",
    "    i += 1\n",
    "if plot_type == 'ROC':\n",
    "    plt.savefig(\"final/\"+str(gram)+\"_ROC.png\")\n",
    "    plt.close()\n"
   ]
  },
  {
   "cell_type": "markdown",
   "metadata": {},
   "source": [
    "## 7. Print most important features"
   ]
  },
  {
   "cell_type": "code",
   "execution_count": 82,
   "metadata": {},
   "outputs": [
    {
     "name": "stdout",
     "output_type": "stream",
     "text": [
      "['__', '__ realdonaldtrump', '__ realdonaldtrump ginaandersonrn', '_bri', '_bri first', '_bri first election', '_eod', '_eod believe', '_eod believe passed', '_fly_on_wall_']\n"
     ]
    },
    {
     "data": {
      "image/png": "[encoded data removed]",
      "text/plain": [
       "<Figure size 1080x360 with 1 Axes>"
      ]
     },
     "metadata": {
      "needs_background": "light"
     },
     "output_type": "display_data"
    }
   ],
   "source": [
    "from sklearn.feature_extraction.text import CountVectorizer\n",
    "from sklearn.svm import LinearSVC\n",
    "import matplotlib.pyplot as plt\n",
    "def plot_coefficients(classifier, feature_names, top_features=20):\n",
    "    coef = classifier.coef_.ravel()\n",
    "    top_positive_coefficients = np.argsort(coef)[-top_features:]\n",
    "    top_negative_coefficients = np.argsort(coef)[:top_features]\n",
    "    top_coefficients = np.hstack([top_negative_coefficients, top_positive_coefficients])\n",
    "    # create plot\n",
    "    plt.figure(figsize=(15, 5))\n",
    "    colors = ['red' if c < 0 else 'blue' for c in coef[top_coefficients]]\n",
    "    plt.bar(np.arange(2 * top_features), coef[top_coefficients], color=colors)\n",
    "    feature_names = np.array(feature_names)\n",
    "    plt.xticks(np.arange(1, 1 + 2 * top_features), feature_names[top_coefficients], rotation=60, ha='right')\n",
    "    plt.show()\n",
    "\n",
    "# Retrieve features from initial fold features\n",
    "kfold = StratifiedKFold(n_splits=10,shuffle=True,random_state=SEED)\n",
    "\n",
    "l_kfold = [[i, (train, test)] for i, (train, test) in enumerate(kfold.split(df_train['X'], df_train['label']))] \n",
    "x_train = df_train['X'].iloc[l_kfold[9][1][0]] # this is the exact same fold  \n",
    "\n",
    "cv = TfidfVectorizer(ngram_range=(1,3))\n",
    "cv.fit(x_train)\n",
    "print(cv.get_feature_names()[:10])\n",
    "\n",
    "plot_coefficients(tuple(loaded_model)[1], cv.get_feature_names())"
   ]
  }
 ],
 "metadata": {
  "kernelspec": {
   "display_name": "Python 3",
   "language": "python",
   "name": "python3"
  },
  "language_info": {
   "codemirror_mode": {
    "name": "ipython",
    "version": 3
   },
   "file_extension": ".py",
   "mimetype": "text/x-python",
   "name": "python",
   "nbconvert_exporter": "python",
   "pygments_lexer": "ipython3",
   "version": "3.7.3"
  }
 },
 "nbformat": 4,
 "nbformat_minor": 2
}
