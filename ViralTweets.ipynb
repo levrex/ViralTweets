{
 "cells": [
  {
   "cell_type": "markdown",
   "metadata": {},
   "source": [
    "# Predict viral tweets"
   ]
  },
  {
   "cell_type": "code",
   "execution_count": 5,
   "metadata": {},
   "outputs": [
    {
     "name": "stdout",
     "output_type": "stream",
     "text": [
      "Current versions Modules:\n",
      "\n",
      "Pandas version:\t\t0.24.2\n",
      "Matplotlib version:\t3.1.0\n",
      "numpy version:\t\t1.16.4\n",
      "sklearn version:\t0.21.2\n"
     ]
    }
   ],
   "source": [
    "SEED = 26062019\n",
    "\n",
    "test_size = 0.5 \n",
    "\n",
    "import sys\n",
    "from sklearn.model_selection import train_test_split\n",
    "import numpy as np\n",
    "import pandas as pd\n",
    "from sklearn import __version__ as sk_vers\n",
    "import matplotlib.pyplot as plt\n",
    "from matplotlib import __version__ as m_vers\n",
    "\n",
    "#import pickle\n",
    "#from yellowbrick import __version__ as yb_vers\n",
    "#import NLP_functions as func\n",
    "#from pattern import __version__ as pat_vers\n",
    "#import random\n",
    "#from sklearn import datasets, svm, model_selection, tree, preprocessing, metrics\n",
    "#import sklearn.ensemble as ske\n",
    "#import re\n",
    "#import xgboost as xgb\n",
    "#import seaborn as sns\n",
    "\n",
    "\n",
    "print('Current versions Modules:\\n')\n",
    "print('Pandas version:\\t\\t' + pd.__version__)\n",
    "print('Matplotlib version:\\t' + m_vers)\n",
    "print('numpy version:\\t\\t' + np.__version__)\n",
    "print('sklearn version:\\t' + sk_vers)"
   ]
  },
  {
   "cell_type": "markdown",
   "metadata": {},
   "source": [
    "#### install NLTK"
   ]
  },
  {
   "cell_type": "code",
   "execution_count": 4,
   "metadata": {},
   "outputs": [
    {
     "name": "stderr",
     "output_type": "stream",
     "text": [
      "[nltk_data] Downloading package wordnet to\n",
      "[nltk_data]     C:\\Users\\levrex\\AppData\\Roaming\\nltk_data...\n",
      "[nltk_data]   Package wordnet is already up-to-date!\n"
     ]
    },
    {
     "data": {
      "text/plain": [
       "True"
      ]
     },
     "execution_count": 4,
     "metadata": {},
     "output_type": "execute_result"
    }
   ],
   "source": [
    "import nltk\n",
    "nltk.download('wordnet')"
   ]
  },
  {
   "cell_type": "markdown",
   "metadata": {},
   "source": [
    "## 1. Load data"
   ]
  },
  {
   "cell_type": "code",
   "execution_count": 7,
   "metadata": {},
   "outputs": [
    {
     "name": "stdout",
     "output_type": "stream",
     "text": [
      "nr of tweets:  41122\n"
     ]
    },
    {
     "data": {
      "text/html": [
       "<div>\n",
       "<style scoped>\n",
       "    .dataframe tbody tr th:only-of-type {\n",
       "        vertical-align: middle;\n",
       "    }\n",
       "\n",
       "    .dataframe tbody tr th {\n",
       "        vertical-align: top;\n",
       "    }\n",
       "\n",
       "    .dataframe thead th {\n",
       "        text-align: right;\n",
       "    }\n",
       "</style>\n",
       "<table border=\"1\" class=\"dataframe\">\n",
       "  <thead>\n",
       "    <tr style=\"text-align: right;\">\n",
       "      <th></th>\n",
       "      <th>id</th>\n",
       "      <th>link</th>\n",
       "      <th>content</th>\n",
       "      <th>date</th>\n",
       "      <th>retweets</th>\n",
       "      <th>favorites</th>\n",
       "      <th>mentions</th>\n",
       "      <th>hashtags</th>\n",
       "      <th>geo</th>\n",
       "    </tr>\n",
       "  </thead>\n",
       "  <tbody>\n",
       "    <tr>\n",
       "      <th>0</th>\n",
       "      <td>1698308935</td>\n",
       "      <td>https://twitter.com/realDonaldTrump/status/169...</td>\n",
       "      <td>Be sure to tune in and watch Donald Trump on L...</td>\n",
       "      <td>2009-05-04 20:54:25</td>\n",
       "      <td>500</td>\n",
       "      <td>868</td>\n",
       "      <td>NaN</td>\n",
       "      <td>NaN</td>\n",
       "      <td>NaN</td>\n",
       "    </tr>\n",
       "    <tr>\n",
       "      <th>1</th>\n",
       "      <td>1701461182</td>\n",
       "      <td>https://twitter.com/realDonaldTrump/status/170...</td>\n",
       "      <td>Donald Trump will be appearing on The View tom...</td>\n",
       "      <td>2009-05-05 03:00:10</td>\n",
       "      <td>33</td>\n",
       "      <td>273</td>\n",
       "      <td>NaN</td>\n",
       "      <td>NaN</td>\n",
       "      <td>NaN</td>\n",
       "    </tr>\n",
       "    <tr>\n",
       "      <th>2</th>\n",
       "      <td>1737479987</td>\n",
       "      <td>https://twitter.com/realDonaldTrump/status/173...</td>\n",
       "      <td>Donald Trump reads Top Ten Financial Tips on L...</td>\n",
       "      <td>2009-05-08 15:38:08</td>\n",
       "      <td>12</td>\n",
       "      <td>18</td>\n",
       "      <td>NaN</td>\n",
       "      <td>NaN</td>\n",
       "      <td>NaN</td>\n",
       "    </tr>\n",
       "    <tr>\n",
       "      <th>3</th>\n",
       "      <td>1741160716</td>\n",
       "      <td>https://twitter.com/realDonaldTrump/status/174...</td>\n",
       "      <td>New Blog Post: Celebrity Apprentice Finale and...</td>\n",
       "      <td>2009-05-08 22:40:15</td>\n",
       "      <td>11</td>\n",
       "      <td>24</td>\n",
       "      <td>NaN</td>\n",
       "      <td>NaN</td>\n",
       "      <td>NaN</td>\n",
       "    </tr>\n",
       "    <tr>\n",
       "      <th>4</th>\n",
       "      <td>1773561338</td>\n",
       "      <td>https://twitter.com/realDonaldTrump/status/177...</td>\n",
       "      <td>\"My persona will never be that of a wallflower...</td>\n",
       "      <td>2009-05-12 16:07:28</td>\n",
       "      <td>1399</td>\n",
       "      <td>1965</td>\n",
       "      <td>NaN</td>\n",
       "      <td>NaN</td>\n",
       "      <td>NaN</td>\n",
       "    </tr>\n",
       "  </tbody>\n",
       "</table>\n",
       "</div>"
      ],
      "text/plain": [
       "           id                                               link  \\\n",
       "0  1698308935  https://twitter.com/realDonaldTrump/status/169...   \n",
       "1  1701461182  https://twitter.com/realDonaldTrump/status/170...   \n",
       "2  1737479987  https://twitter.com/realDonaldTrump/status/173...   \n",
       "3  1741160716  https://twitter.com/realDonaldTrump/status/174...   \n",
       "4  1773561338  https://twitter.com/realDonaldTrump/status/177...   \n",
       "\n",
       "                                             content                date  \\\n",
       "0  Be sure to tune in and watch Donald Trump on L... 2009-05-04 20:54:25   \n",
       "1  Donald Trump will be appearing on The View tom... 2009-05-05 03:00:10   \n",
       "2  Donald Trump reads Top Ten Financial Tips on L... 2009-05-08 15:38:08   \n",
       "3  New Blog Post: Celebrity Apprentice Finale and... 2009-05-08 22:40:15   \n",
       "4  \"My persona will never be that of a wallflower... 2009-05-12 16:07:28   \n",
       "\n",
       "   retweets  favorites mentions hashtags  geo  \n",
       "0       500        868      NaN      NaN  NaN  \n",
       "1        33        273      NaN      NaN  NaN  \n",
       "2        12         18      NaN      NaN  NaN  \n",
       "3        11         24      NaN      NaN  NaN  \n",
       "4      1399       1965      NaN      NaN  NaN  "
      ]
     },
     "execution_count": 7,
     "metadata": {},
     "output_type": "execute_result"
    }
   ],
   "source": [
    "df_tweets = pd.read_csv(r'input/trumptweets.csv', sep=',')\n",
    "df_tweets['date'] = pd.to_datetime(df_tweets['date']) # interpret date as pd.datetime\n",
    "print('nr of tweets: ', len(df_tweets))\n",
    "df_tweets.head()"
   ]
  },
  {
   "cell_type": "code",
   "execution_count": 8,
   "metadata": {},
   "outputs": [
    {
     "name": "stdout",
     "output_type": "stream",
     "text": [
      "First tweet:  2009-05-04 20:54:25\n",
      "Final tweet:  2020-01-20 02:57:49\n"
     ]
    }
   ],
   "source": [
    "print('First tweet: ', df_tweets['date'].min())\n",
    "print('Final tweet: ', df_tweets['date'].max())"
   ]
  },
  {
   "cell_type": "markdown",
   "metadata": {},
   "source": [
    "### Date cut-off\n",
    "Only select tweets after the moment he announced that he was a presidential candidate"
   ]
  },
  {
   "cell_type": "code",
   "execution_count": 9,
   "metadata": {},
   "outputs": [
    {
     "data": {
      "text/plain": [
       "'# FraudNewsCNN # FNNpic.twitter.com/WYUnHjjUjg'"
      ]
     },
     "execution_count": 9,
     "metadata": {},
     "output_type": "execute_result"
    }
   ],
   "source": [
    "df_tweets.loc[32059]['content']"
   ]
  },
  {
   "cell_type": "code",
   "execution_count": 10,
   "metadata": {},
   "outputs": [
    {
     "name": "stdout",
     "output_type": "stream",
     "text": [
      "17823\n"
     ]
    }
   ],
   "source": [
    "df_tweets = df_tweets[df_tweets['date']>pd.Timestamp('2015-06-16T12')] \n",
    "print(len(df_tweets))"
   ]
  },
  {
   "cell_type": "markdown",
   "metadata": {},
   "source": [
    "### Simple Cleaning"
   ]
  },
  {
   "cell_type": "code",
   "execution_count": 11,
   "metadata": {},
   "outputs": [],
   "source": [
    "import re\n",
    "from nltk.stem import WordNetLemmatizer\n",
    "from nltk.corpus import stopwords\n",
    "from nltk.tokenize import TweetTokenizer\n",
    "\n",
    "def lemmatizingText(sentence):\n",
    "    \"\"\"\n",
    "    This function normalizes words with the pattern.nl package. \n",
    "    Lemmatisation returns words to the base form. The base form\n",
    "    should be a valid word in the language.\n",
    "    Example: Walking, Walks and Walked are all translated to \n",
    "        Walk\n",
    "        \n",
    "    Input: \n",
    "        sentence = written text from an EHR record or another\n",
    "            Natural Language type record (str)\n",
    "    \"\"\"\n",
    "    lemmatizer = WordNetLemmatizer() \n",
    "    return ' '.join([lemmatizer.lemmatize(x) for x in sentence.split(' ')])\n",
    "\n",
    "def simpleCleaning(sentence):\n",
    "    # at this moment we ignore whether or not a term is tagged\n",
    "    sticky_chars = r'([!,.:\"#;@\\-\\+\\\\/&=\\]\\[<>^\\*`â€™\\(\\)\\d])'\n",
    "    sentence = re.sub(sticky_chars, r' ', sentence)\n",
    "    sentence = sentence.lower()\n",
    "    return sentence\n",
    "\n",
    "def removeStopWords(sentence):\n",
    "    return ' '.join([i for i in tweet_tokenizer.tokenize(sentence) if i not in stopwords.words('english')])\n",
    "\n",
    "tweet_tokenizer = TweetTokenizer()\n",
    "\n",
    "# convert to lowercase\n",
    "df_tweets['content'] = df_tweets['content'].str.lower()\n",
    "# remove links (pic is used for pictures)\n",
    "df_tweets['content'] = df_tweets['content'].str.replace('http\\S+|www.\\S+|pic.\\S+', '', case=False) #tweet_tokens\n",
    "# simple cleaning\n",
    "df_tweets['content'] = df_tweets['content'].apply(lambda x : simpleCleaning(x))       \n",
    "# lemmatizing\n",
    "df_tweets['content'] = df_tweets['content'].apply(lambda x : lemmatizingText(x))     \n",
    "# remove stop words\n",
    "df_tweets['content'] = df_tweets['content'].apply(lambda x : removeStopWords(x))\n",
    "# remove spaces\n",
    "df_tweets['content'] = df_tweets['content'].str.replace(' +', ' ', case=False)"
   ]
  },
  {
   "cell_type": "markdown",
   "metadata": {},
   "source": [
    "## Most popular tweet"
   ]
  },
  {
   "cell_type": "code",
   "execution_count": 10,
   "metadata": {},
   "outputs": [
    {
     "data": {
      "text/html": [
       "<div>\n",
       "<style scoped>\n",
       "    .dataframe tbody tr th:only-of-type {\n",
       "        vertical-align: middle;\n",
       "    }\n",
       "\n",
       "    .dataframe tbody tr th {\n",
       "        vertical-align: top;\n",
       "    }\n",
       "\n",
       "    .dataframe thead th {\n",
       "        text-align: right;\n",
       "    }\n",
       "</style>\n",
       "<table border=\"1\" class=\"dataframe\">\n",
       "  <thead>\n",
       "    <tr style=\"text-align: right;\">\n",
       "      <th></th>\n",
       "      <th>id</th>\n",
       "      <th>link</th>\n",
       "      <th>content</th>\n",
       "      <th>date</th>\n",
       "      <th>retweets</th>\n",
       "      <th>favorites</th>\n",
       "      <th>mentions</th>\n",
       "      <th>hashtags</th>\n",
       "      <th>geo</th>\n",
       "    </tr>\n",
       "  </thead>\n",
       "  <tbody>\n",
       "    <tr>\n",
       "      <th>38625</th>\n",
       "      <td>1157345692517634049</td>\n",
       "      <td>https://twitter.com/realDonaldTrump/status/115...</td>\n",
       "      <td>$ ap rocky released prison way home united sta...</td>\n",
       "      <td>2019-08-02 19:41:30</td>\n",
       "      <td>240363</td>\n",
       "      <td>857678</td>\n",
       "      <td>NaN</td>\n",
       "      <td>NaN</td>\n",
       "      <td>NaN</td>\n",
       "    </tr>\n",
       "  </tbody>\n",
       "</table>\n",
       "</div>"
      ],
      "text/plain": [
       "                        id                                               link  \\\n",
       "38625  1157345692517634049  https://twitter.com/realDonaldTrump/status/115...   \n",
       "\n",
       "                                                 content                date  \\\n",
       "38625  $ ap rocky released prison way home united sta... 2019-08-02 19:41:30   \n",
       "\n",
       "       retweets  favorites mentions hashtags  geo  \n",
       "38625    240363     857678      NaN      NaN  NaN  "
      ]
     },
     "execution_count": 10,
     "metadata": {},
     "output_type": "execute_result"
    }
   ],
   "source": [
    "df_tweets[df_tweets['favorites']==df_tweets['favorites'].max()]"
   ]
  },
  {
   "cell_type": "code",
   "execution_count": 11,
   "metadata": {},
   "outputs": [
    {
     "data": {
      "text/html": [
       "<div>\n",
       "<style scoped>\n",
       "    .dataframe tbody tr th:only-of-type {\n",
       "        vertical-align: middle;\n",
       "    }\n",
       "\n",
       "    .dataframe tbody tr th {\n",
       "        vertical-align: top;\n",
       "    }\n",
       "\n",
       "    .dataframe thead th {\n",
       "        text-align: right;\n",
       "    }\n",
       "</style>\n",
       "<table border=\"1\" class=\"dataframe\">\n",
       "  <thead>\n",
       "    <tr style=\"text-align: right;\">\n",
       "      <th></th>\n",
       "      <th>id</th>\n",
       "      <th>link</th>\n",
       "      <th>content</th>\n",
       "      <th>date</th>\n",
       "      <th>retweets</th>\n",
       "      <th>favorites</th>\n",
       "      <th>mentions</th>\n",
       "      <th>hashtags</th>\n",
       "      <th>geo</th>\n",
       "    </tr>\n",
       "  </thead>\n",
       "  <tbody>\n",
       "    <tr>\n",
       "      <th>32059</th>\n",
       "      <td>881503147168071680</td>\n",
       "      <td>https://twitter.com/realDonaldTrump/status/881...</td>\n",
       "      <td>fraudnewscnn fnn</td>\n",
       "      <td>2017-07-02 15:21:42</td>\n",
       "      <td>309892</td>\n",
       "      <td>528265</td>\n",
       "      <td>NaN</td>\n",
       "      <td># #</td>\n",
       "      <td>NaN</td>\n",
       "    </tr>\n",
       "  </tbody>\n",
       "</table>\n",
       "</div>"
      ],
      "text/plain": [
       "                       id                                               link  \\\n",
       "32059  881503147168071680  https://twitter.com/realDonaldTrump/status/881...   \n",
       "\n",
       "                content                date  retweets  favorites mentions  \\\n",
       "32059  fraudnewscnn fnn 2017-07-02 15:21:42    309892     528265      NaN   \n",
       "\n",
       "      hashtags  geo  \n",
       "32059      # #  NaN  "
      ]
     },
     "execution_count": 11,
     "metadata": {},
     "output_type": "execute_result"
    }
   ],
   "source": [
    "df_tweets[df_tweets['retweets']==df_tweets['retweets'].max()]"
   ]
  },
  {
   "cell_type": "markdown",
   "metadata": {},
   "source": [
    "## 2. Create Train, Validation & Test set"
   ]
  },
  {
   "cell_type": "code",
   "execution_count": 13,
   "metadata": {},
   "outputs": [
    {
     "name": "stdout",
     "output_type": "stream",
     "text": [
      "Size train:\t 13367\n",
      "Size test:\t 4456\n"
     ]
    }
   ],
   "source": [
    "from sklearn.model_selection import train_test_split\n",
    "SEED = 232020\n",
    "\n",
    "X = df_tweets['content']\n",
    "y = df_tweets['retweets']\n",
    "\n",
    "# test split\n",
    "# validation splits\n",
    "#ss = ShuffleSplit(n_splits=10, test_size=0.5, random_state=SEED)\n",
    "#l_folds = ss.split(X_s)\n",
    "X_train, X_test, y_train, y_test = train_test_split(X, y, test_size=0.25, random_state=SEED)\n",
    "\n",
    "print('Size train:\\t', len(X_train))\n",
    "print('Size test:\\t', len(X_test))"
   ]
  },
  {
   "cell_type": "markdown",
   "metadata": {},
   "source": [
    "## 3. Visualize Exploration data\n",
    "### 3.1 Lexical plot of trainingsset"
   ]
  },
  {
   "cell_type": "code",
   "execution_count": 147,
   "metadata": {},
   "outputs": [],
   "source": [
    "from sklearn.feature_extraction.text import TfidfVectorizer\n",
    "from yellowbrick.text import DispersionPlot\n",
    "\n",
    "def plotLexicalDispersion(X, nr_features, title, **kwargs):\n",
    "    \"\"\"\n",
    "    Draws a lexical dispersion plot which visualizes \n",
    "    the homogeneity across the corpus. \n",
    "    \n",
    "    Also confirms wheter or not the data is randomized, \n",
    "    and visualizes the prevalence of features.\n",
    "    \n",
    "    Input:\n",
    "        X = array with text data (EHR entries)\n",
    "        nr_features = top n number of features to plot\n",
    "        n_grams = chunksize for text processing :\n",
    "            Note: chunksize refers to nr of words / not nr of \n",
    "                characters!\n",
    "        kwargs = arguments for feature vectorizer (TfidfVectorizer):\n",
    "            ngram_range = specifies the range of the ngram features\n",
    "    \"\"\"\n",
    "    count = 0\n",
    "    d = {}\n",
    "    words = []\n",
    "    for x in X:\n",
    "        if kwargs['ngram_range'][1] != 1:\n",
    "            # functie crasht bij hashtags\n",
    "            l = [i for i in x.split(' ')]\n",
    "            words.append([' '.join(l[i: i+(kwargs['ngram_range'][1])]) for i in range(len(l)+1) if len(l[i: i+(kwargs['ngram_range'][0])]) <= (kwargs['ngram_range'][1])])\n",
    "            \n",
    "            #print(words)\n",
    "            if len(words[-1]) == 0:\n",
    "                del words[-1]\n",
    "        else :\n",
    "            words.append([i for i in x.split(' ')])\n",
    "        count+=1\n",
    "    d = np.array(words)\n",
    "    count_vect = TfidfVectorizer(ngram_range=kwargs['ngram_range'])\n",
    "    \n",
    "    \n",
    "    X_train_tfidf = count_vect.fit_transform(X) \n",
    "    X_pd = pd.DataFrame(X_train_tfidf.toarray(), columns=count_vect.get_feature_names())\n",
    "    feature_to_plot =list(X_pd.sum().sort_values(ascending=False).keys()[:nr_features]) \n",
    "    visualizer = DispersionPlot(feature_to_plot, size=(450, 450))\n",
    "    ax = visualizer.ax\n",
    "    ax.tick_params(labelsize=18)\n",
    "    visualizer.fit(d)\n",
    "    visualizer.poof()\n",
    "    return"
   ]
  },
  {
   "cell_type": "code",
   "execution_count": 148,
   "metadata": {},
   "outputs": [
    {
     "name": "stderr",
     "output_type": "stream",
     "text": [
      "'c' argument looks like a single numeric RGB or RGBA sequence, which should be avoided as value-mapping will have precedence in case its length matches with 'x' & 'y'.  Please use a 2-D array with a single row if you really want to specify the same RGB or RGBA value for all points.\n"
     ]
    },
    {
     "data": {
      "image/png": "[encoded data removed]",
      "text/plain": [
       "<Figure size 450x450 with 1 Axes>"
      ]
     },
     "metadata": {},
     "output_type": "display_data"
    },
    {
     "data": {
      "text/plain": [
       "<Figure size 576x396 with 0 Axes>"
      ]
     },
     "metadata": {},
     "output_type": "display_data"
    }
   ],
   "source": [
    "title ='Lexical Dispersion Plot of most popular chunks (n=2) in last 1000 Trump tweets'\n",
    "plotLexicalDispersion(X_train.tail(1000), nr_features=20, title=title, ngram_range=(2,2))\n",
    "plt.savefig('figures/prep/LexicalDispersionPlot.png', bbox_inches='tight')"
   ]
  },
  {
   "cell_type": "markdown",
   "metadata": {},
   "source": [
    "## 3. Annotate tweets to be either Viral or not Viral (binary labelling)"
   ]
  },
  {
   "cell_type": "code",
   "execution_count": 19,
   "metadata": {},
   "outputs": [
    {
     "name": "stdout",
     "output_type": "stream",
     "text": [
      "Tweets that qualify as being popular (10% of total in exploration set):  1337\n"
     ]
    }
   ],
   "source": [
    "print('Tweets that qualify as being popular (10% of total in exploration set): ', round(len(y_train)*0.1))"
   ]
  },
  {
   "cell_type": "code",
   "execution_count": 87,
   "metadata": {},
   "outputs": [
    {
     "name": "stdout",
     "output_type": "stream",
     "text": [
      "Tweets with more than 25084 retweets are considered to be viral in Trump terms!\n"
     ]
    }
   ],
   "source": [
    "class_y_train = y_train.sort_values().reset_index()\n",
    "minimal_ix = len(y_train) - round(len(y_train)*0.1)\n",
    "cutoff = class_y_train.loc[minimal_ix]['retweets']\n",
    "print('Tweets with more than %s retweets are considered to be viral in Trump terms!' % (cutoff))\n",
    "\n",
    "# Relabel y_Train & y_test to binary label (Viral or not Viral)\n",
    "y_train_proc = y_train.sort_values().apply(lambda x: 'True' if x > cutoff else 'False')\n",
    "y_test_proc = y_test.sort_values().apply(lambda x: 'True' if x > cutoff else 'False')"
   ]
  },
  {
   "cell_type": "markdown",
   "metadata": {},
   "source": [
    "### 3.1 Distribution Favorites with cut-off"
   ]
  },
  {
   "cell_type": "code",
   "execution_count": 15,
   "metadata": {},
   "outputs": [
    {
     "data": {
      "image/png": "[encoded data removed]",
      "text/plain": [
       "<Figure size 432x288 with 1 Axes>"
      ]
     },
     "metadata": {
      "needs_background": "light"
     },
     "output_type": "display_data"
    }
   ],
   "source": [
    "plt.hist(y_train.sort_values(), bins=50)\n",
    "plt.axvline(x=cutoff, color='r')\n",
    "plt.xlim(right=150000) \n",
    "plt.title('Distribution of retweets with the cut-off for viral tweets')\n",
    "plt.savefig('figures/prep/DistributionFavoriteTweets.png', bbox_inches='tight')"
   ]
  },
  {
   "cell_type": "markdown",
   "metadata": {},
   "source": [
    "### 3.2 Distribution classes (Viral / Non Viral)"
   ]
  },
  {
   "cell_type": "code",
   "execution_count": 19,
   "metadata": {},
   "outputs": [
    {
     "data": {
      "image/png": "[encoded data removed]",
      "text/plain": [
       "<Figure size 360x360 with 1 Axes>"
      ]
     },
     "metadata": {},
     "output_type": "display_data"
    }
   ],
   "source": [
    "from collections import Counter\n",
    "\n",
    "labels, values = zip(*Counter(y_train_proc).items())\n",
    "df = pd.DataFrame({'section':labels, 'frequency':values})\n",
    "ax = df.plot(kind='bar',  title =\"Distribution of Classes\", figsize=(5, 5), x='section', legend=True, fontsize=12, rot=0)"
   ]
  },
  {
   "cell_type": "markdown",
   "metadata": {},
   "source": [
    "## 4. Investigating Vector space (Word2Vec)"
   ]
  },
  {
   "cell_type": "code",
   "execution_count": 84,
   "metadata": {},
   "outputs": [
    {
     "name": "stderr",
     "output_type": "stream",
     "text": [
      "[nltk_data] Downloading package stopwords to\n",
      "[nltk_data]     C:\\Users\\levrex\\AppData\\Roaming\\nltk_data...\n",
      "[nltk_data]   Unzipping corpora\\stopwords.zip.\n"
     ]
    },
    {
     "data": {
      "text/plain": [
       "True"
      ]
     },
     "execution_count": 84,
     "metadata": {},
     "output_type": "execute_result"
    }
   ],
   "source": [
    "import nltk\n",
    "nltk.download('stopwords')"
   ]
  },
  {
   "cell_type": "markdown",
   "metadata": {},
   "source": [
    "### 4.1 creating Vectorspace with Word2Vec"
   ]
  },
  {
   "cell_type": "code",
   "execution_count": 178,
   "metadata": {},
   "outputs": [
    {
     "name": "stdout",
     "output_type": "stream",
     "text": [
      "Size train:\t 13367\n",
      "Size test:\t 4456\n",
      "Training word2vec model...\n"
     ]
    }
   ],
   "source": [
    "from sklearn.naive_bayes import MultinomialNB\n",
    "import gensim \n",
    "from gensim.models import Word2Vec\n",
    "tweet_tokens = []\n",
    "\n",
    "# later on respect the l_folds\n",
    "\n",
    "for sent in X_train:\n",
    "    tweet_tokens.append(tweet_tokenizer.tokenize(sent))\n",
    "\n",
    "print('Training word2vec model...')\n",
    "word2vec = Word2Vec(tweet_tokens, size=100, window=5, min_count=5, workers=4)  \n",
    "word2vec.init_sims(replace=True)\n"
   ]
  },
  {
   "cell_type": "markdown",
   "metadata": {},
   "source": [
    "### 4.2 Investigating the vector space"
   ]
  },
  {
   "cell_type": "code",
   "execution_count": 234,
   "metadata": {},
   "outputs": [
    {
     "name": "stdout",
     "output_type": "stream",
     "text": [
      "Cosine similarity:\n",
      "'america' and 'great':\t 0.96070176\n",
      "'american' and 'great':\t 0.7700361\n",
      "'cnn' and 'fake':\t 0.8299973\n",
      "'democrat' and 'great':\t 0.16770846\n",
      "'Hillary' and 'great':\t -0.0682913\n",
      "'Hillary' and 'crooked': 0.9585856\n"
     ]
    }
   ],
   "source": [
    "print(\"Cosine similarity:\\n'america' and 'great':\\t\", word2vec.wv.similarity('america', 'great')) \n",
    "print(\"'american' and 'great':\\t\", word2vec.wv.similarity('american', 'great')) \n",
    "print(\"'cnn' and 'fake':\\t\", word2vec.wv.similarity('cnn', 'fake'))\n",
    "print(\"'democrat' and 'great':\\t\", word2vec.wv.similarity('democrat', 'great')) \n",
    "print(\"'Hillary' and 'great':\\t\", word2vec.wv.similarity('hillary', 'great')) \n",
    "print(\"'Hillary' and 'crooked':\", word2vec.wv.similarity('hillary', 'crooked')) "
   ]
  },
  {
   "cell_type": "code",
   "execution_count": 239,
   "metadata": {},
   "outputs": [
    {
     "name": "stdout",
     "output_type": "stream",
     "text": [
      "News + Trump - FoxNews =  [('cnn', 0.8376795053482056)]\n",
      "News + Trump - CNN =  [('foxnews', 0.851902961730957)]\n",
      "Which one doesn't match: Trump, Democrat, Republican and Foxnews: democrat\n"
     ]
    }
   ],
   "source": [
    "print(\"News + Trump - FoxNews = \", word2vec.wv.most_similar(positive=['news', 'trump'], negative=['foxnews'], topn=1))\n",
    "print(\"News + Trump - CNN = \", word2vec.wv.most_similar(positive=['news', 'trump'], negative=['cnn'], topn=1))\n",
    "print(\"Which one doesn't match: Trump, Democrat, Republican and Foxnews:\", word2vec.wv.doesnt_match(\"trump democrat republican foxnews\".split()))"
   ]
  },
  {
   "cell_type": "code",
   "execution_count": 247,
   "metadata": {},
   "outputs": [
    {
     "name": "stdout",
     "output_type": "stream",
     "text": [
      "Most associations with Hillary\n"
     ]
    },
    {
     "data": {
      "text/plain": [
       "[('clinton', 0.9729011058807373),\n",
       " ('crooked', 0.9585856199264526),\n",
       " ('flunky', 0.8961525559425354),\n",
       " ('campaign', 0.8677566647529602),\n",
       " ('foundation', 0.8625138998031616)]"
      ]
     },
     "execution_count": 247,
     "metadata": {},
     "output_type": "execute_result"
    }
   ],
   "source": [
    "print(\"Most associations with Hillary\")\n",
    "word2vec.wv.similar_by_word(\"hillary\", 5)"
   ]
  },
  {
   "cell_type": "markdown",
   "metadata": {},
   "source": [
    "## 5. Build Classifier \n",
    "1. Use TFIDF vectorizer (Word2Vec cannot be used for a classifier?)\n",
    "2. Use ROC curve with 5 cross folds "
   ]
  },
  {
   "cell_type": "code",
   "execution_count": 108,
   "metadata": {},
   "outputs": [],
   "source": [
    "from sklearn.metrics import accuracy_score, classification_report, roc_curve, auc\n",
    "\n",
    "def plotSTD(tprs, aucs, color, lbl, linestyle='-', lw=5):\n",
    "        \"\"\"\n",
    "        Plot the standard deviation of the ROC-curves\n",
    "\n",
    "        Input:\n",
    "            tprs = list of true positive rates per iteration\n",
    "            aucs = list of area under the curve per iteration\n",
    "            lbl = name of the classifier (string)\n",
    "            color = specify color of the classifier\n",
    "            lw = linewidth (float)\n",
    "        Output:\n",
    "            plt = matplotlib pyplot featuring the standard \n",
    "                deviation of the ROC curve from the classifier\n",
    "            std_auc = standard deviation of the auc (float)\n",
    "        \"\"\"\n",
    "        mean_fpr = np.linspace(0, 1, 100)\n",
    "        mean_tpr = np.mean(tprs, axis=0)\n",
    "        mean_tpr [-1] = 1.0\n",
    "        mean_auc = auc(mean_fpr, mean_tpr)\n",
    "        std_auc = np.std(aucs)\n",
    "        std_tpr = np.std(tprs, axis=0)\n",
    "        tprs_upper = np.minimum(mean_tpr + std_tpr, 1)\n",
    "        tprs_lower = np.maximum(mean_tpr - std_tpr, 0)\n",
    "        print(lbl + ' ' + str(mean_auc) +' (std : +/-' + \"%.2f\" % std_auc + ' )')\n",
    "        plt.plot(mean_fpr, mean_tpr, color=color,\n",
    "            label=lbl + r' mean kfold (AUC = %.2f +/- %.2f)' % (mean_auc, std_auc),\n",
    "            alpha=.5, linestyle=linestyle, linewidth=lw)\n",
    "        plt.fill_between(mean_fpr, tprs_lower, tprs_upper, color=color, alpha=.1)\n",
    "        return plt "
   ]
  },
  {
   "cell_type": "code",
   "execution_count": 109,
   "metadata": {},
   "outputs": [
    {
     "name": "stdout",
     "output_type": "stream",
     "text": [
      "accuracy 0.7614061331338818\n",
      "              precision    recall  f1-score   support\n",
      "\n",
      "           0       0.90      0.83      0.86      2419\n",
      "           1       0.08      0.15      0.11       255\n",
      "\n",
      "    accuracy                           0.76      2674\n",
      "   macro avg       0.49      0.49      0.48      2674\n",
      "weighted avg       0.82      0.76      0.79      2674\n",
      "\n",
      "accuracy 0.7602842183994016\n",
      "              precision    recall  f1-score   support\n",
      "\n",
      "           0       0.89      0.83      0.86      2397\n",
      "           1       0.09      0.15      0.11       277\n",
      "\n",
      "    accuracy                           0.76      2674\n",
      "   macro avg       0.49      0.49      0.49      2674\n",
      "weighted avg       0.81      0.76      0.78      2674\n",
      "\n",
      "accuracy 0.7744951383694839\n",
      "              precision    recall  f1-score   support\n",
      "\n",
      "           0       0.90      0.85      0.87      2408\n",
      "           1       0.08      0.12      0.10       266\n",
      "\n",
      "    accuracy                           0.77      2674\n",
      "   macro avg       0.49      0.49      0.48      2674\n",
      "weighted avg       0.82      0.77      0.79      2674\n",
      "\n",
      "accuracy 0.7539267015706806\n",
      "              precision    recall  f1-score   support\n",
      "\n",
      "           0       0.90      0.82      0.86      2418\n",
      "           1       0.06      0.11      0.08       256\n",
      "\n",
      "    accuracy                           0.75      2674\n",
      "   macro avg       0.48      0.47      0.47      2674\n",
      "weighted avg       0.82      0.75      0.78      2674\n",
      "\n",
      "accuracy 0.7793567688855647\n",
      "              precision    recall  f1-score   support\n",
      "\n",
      "           0       0.91      0.84      0.87      2436\n",
      "           1       0.10      0.18      0.12       238\n",
      "\n",
      "    accuracy                           0.78      2674\n",
      "   macro avg       0.50      0.51      0.50      2674\n",
      "weighted avg       0.84      0.78      0.81      2674\n",
      "\n",
      "SGD 0.4874224696244354 (std : +/-0.01 )\n"
     ]
    },
    {
     "data": {
      "image/png": "[encoded data removed]",
      "text/plain": [
       "<Figure size 432x288 with 1 Axes>"
      ]
     },
     "metadata": {
      "needs_background": "light"
     },
     "output_type": "display_data"
    }
   ],
   "source": [
    "from sklearn.pipeline import Pipeline\n",
    "from sklearn.naive_bayes import GaussianNB\n",
    "from sklearn.linear_model import SGDClassifier\n",
    "from sklearn import svm\n",
    "from sklearn.model_selection import ShuffleSplit\n",
    "from sklearn.feature_extraction.text import TfidfVectorizer\n",
    "from sklearn.linear_model import PassiveAggressiveClassifier\n",
    "import gensim \n",
    "from gensim.models import Word2Vec\n",
    "\n",
    "sgd = Pipeline([('tfidf', TfidfVectorizer()),\n",
    "                ('clf', PassiveAggressiveClassifier(class_weight = {1 : 10})), # probability=True\n",
    "               ])\n",
    "\n",
    "# later on respect the l_folds\n",
    "ss = ShuffleSplit(n_splits=5, test_size=0.2, random_state=SEED)\n",
    "l_folds = [(train, test) for train, test in ss.split(X_train)]\n",
    "\n",
    "tprs, aucs = [], []\n",
    "fpr_scale = np.linspace(0, 1, 100)\n",
    "\n",
    "for train_ix, test_ix in l_folds:\n",
    "    clf = sgd.fit(X_train.iloc[train_ix], np.array([1 if i == 'True' else 0 for i in y_train_proc.iloc[train_ix]]))\n",
    "    y_pred = sgd.predict(X_train.iloc[test_ix])\n",
    "    # Calculating the score of the predictions\n",
    "    y_true = np.array([1 if i == 'True' else 0 for i in y_train_proc.iloc[test_ix]])\n",
    "    #y_pred2 = np.array([1 if i == 'True' else 0 for i in y_pred])\n",
    "    #print(list(y_pred))\n",
    "    fpr, tpr, thresholds = roc_curve(y_true, y_pred)\n",
    "    tprs.append(np.interp(fpr_scale, fpr, tpr))\n",
    "    tprs[-1][0] = 0.0\n",
    "    roc_auc = auc(fpr, tpr)\n",
    "    aucs.append(roc_auc)\n",
    "    \n",
    "    \n",
    "    print('accuracy %s' % accuracy_score(y_pred, y_true))\n",
    "    print(classification_report(y_true, y_pred))\n",
    "plt = plotSTD(tprs, aucs, 'r', 'SGD')"
   ]
  },
  {
   "cell_type": "code",
   "execution_count": null,
   "metadata": {},
   "outputs": [],
   "source": []
  }
 ],
 "metadata": {
  "kernelspec": {
   "display_name": "Python 3",
   "language": "python",
   "name": "python3"
  },
  "language_info": {
   "codemirror_mode": {
    "name": "ipython",
    "version": 3
   },
   "file_extension": ".py",
   "mimetype": "text/x-python",
   "name": "python",
   "nbconvert_exporter": "python",
   "pygments_lexer": "ipython3",
   "version": "3.7.3"
  }
 },
 "nbformat": 4,
 "nbformat_minor": 2
}
